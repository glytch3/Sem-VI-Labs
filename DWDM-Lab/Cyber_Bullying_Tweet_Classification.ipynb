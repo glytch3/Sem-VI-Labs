{
  "cells": [
    {
      "cell_type": "markdown",
      "metadata": {
        "id": "view-in-github",
        "colab_type": "text"
      },
      "source": [
        "<a href=\"https://colab.research.google.com/github/glytch3/Sem-VI-Labs/blob/main/DWDM-Lab/Cyber_Bullying_Tweet_Classification.ipynb\" target=\"_parent\"><img src=\"https://colab.research.google.com/assets/colab-badge.svg\" alt=\"Open In Colab\"/></a>"
      ]
    },
    {
      "cell_type": "markdown",
      "id": "777cb9b8",
      "metadata": {
        "id": "777cb9b8"
      },
      "source": [
        "# Importing Libraries"
      ]
    },
    {
      "cell_type": "code",
      "execution_count": null,
      "id": "95ec4cd6",
      "metadata": {
        "colab": {
          "base_uri": "https://localhost:8080/"
        },
        "id": "95ec4cd6",
        "outputId": "a75be942-bcab-408b-d0e8-cdc38dc127f5"
      },
      "outputs": [
        {
          "output_type": "stream",
          "name": "stdout",
          "text": [
            "Looking in indexes: https://pypi.org/simple, https://us-python.pkg.dev/colab-wheels/public/simple/\n",
            "Collecting emoji\n",
            "  Downloading emoji-2.2.0.tar.gz (240 kB)\n",
            "\u001b[2K     \u001b[90m━━━━━━━━━━━━━━━━━━━━━━━━━━━━━━━━━━━━━━━\u001b[0m \u001b[32m240.9/240.9 KB\u001b[0m \u001b[31m5.2 MB/s\u001b[0m eta \u001b[36m0:00:00\u001b[0m\n",
            "\u001b[?25h  Preparing metadata (setup.py) ... \u001b[?25l\u001b[?25hdone\n",
            "Building wheels for collected packages: emoji\n",
            "  Building wheel for emoji (setup.py) ... \u001b[?25l\u001b[?25hdone\n",
            "  Created wheel for emoji: filename=emoji-2.2.0-py3-none-any.whl size=234926 sha256=8e755111965f1261c59e736e2a0cd128a12fdff9f35d79e0d7e6660376b30ab7\n",
            "  Stored in directory: /root/.cache/pip/wheels/9a/b8/0f/f580817231cbf59f6ade9fd132ff60ada1de9f7dc85521f857\n",
            "Successfully built emoji\n",
            "Installing collected packages: emoji\n",
            "Successfully installed emoji-2.2.0\n"
          ]
        }
      ],
      "source": [
        "pip install emoji"
      ]
    },
    {
      "cell_type": "code",
      "execution_count": null,
      "metadata": {
        "id": "koE2CSCZx05S"
      },
      "outputs": [],
      "source": [
        "import warnings\n",
        "warnings.filterwarnings('ignore')\n",
        "import pandas as pd\n",
        "import numpy as np\n",
        "import re\n",
        "import matplotlib.pyplot as plt\n",
        "%matplotlib inline\n",
        "import seaborn as sns\n",
        "import plotly.express as px\n",
        "import emoji\n",
        "import string\n",
        "import nltk\n",
        "from PIL import Image\n",
        "from collections import Counter\n",
        "from wordcloud import WordCloud, ImageColorGenerator, STOPWORDS\n",
        "from nltk.tokenize import word_tokenize\n",
        "from nltk.corpus import stopwords\n",
        "from nltk.stem.porter import PorterStemmer\n",
        "from nltk.stem.snowball import SnowballStemmer\n",
        "from nltk.stem import WordNetLemmatizer\n",
        "from sklearn.feature_extraction.text import CountVectorizer\n",
        "from sklearn.feature_extraction.text import TfidfVectorizer\n",
        "from sklearn.model_selection import train_test_split\n",
        "from sklearn.model_selection import cross_val_score\n",
        "from sklearn.metrics import accuracy_score, f1_score, confusion_matrix, classification_report\n",
        "from sklearn.model_selection import GridSearchCV\n",
        "from sklearn.model_selection import RandomizedSearchCV\n",
        "from sklearn.linear_model import LogisticRegression\n",
        "from sklearn.ensemble import RandomForestClassifier\n",
        "from sklearn.ensemble import AdaBoostClassifier\n",
        "from sklearn.svm import SVC,LinearSVC\n",
        "from sklearn.naive_bayes import MultinomialNB\n",
        "from sklearn.tree import DecisionTreeClassifier\n",
        "from sklearn.pipeline import Pipeline\n",
        "import pickle"
      ],
      "id": "koE2CSCZx05S"
    },
    {
      "cell_type": "markdown",
      "id": "8556b23a",
      "metadata": {
        "id": "8556b23a"
      },
      "source": [
        "# Getting data"
      ]
    },
    {
      "cell_type": "code",
      "source": [
        "from google.colab import drive\n",
        "drive.mount('/content/drive')"
      ],
      "metadata": {
        "colab": {
          "base_uri": "https://localhost:8080/"
        },
        "id": "QQN2eTo2yErp",
        "outputId": "071cc5fa-e1fe-4e2c-aafd-7102a56ec85d"
      },
      "id": "QQN2eTo2yErp",
      "execution_count": 9,
      "outputs": [
        {
          "output_type": "stream",
          "name": "stdout",
          "text": [
            "Drive already mounted at /content/drive; to attempt to forcibly remount, call drive.mount(\"/content/drive\", force_remount=True).\n"
          ]
        }
      ]
    },
    {
      "cell_type": "code",
      "source": [
        "import csv\n",
        "result = []\n",
        "\n",
        "with open(\"/content/drive/MyDrive/DWDMLab/8000age.txt\", \"r\") as file:\n",
        "    lines = file.readlines()\n",
        "for line in lines:\n",
        "    result.append((line.strip(),\"age\"))\n",
        "\n",
        "with open(\"/content/drive/MyDrive/DWDMLab/8000ethnicity.txt\", \"r\") as file:\n",
        "    lines = file.readlines()\n",
        "for line in lines:\n",
        "    result.append((line.strip(),\"ethnicity\"))\n",
        "\n",
        "with open(\"/content/drive/MyDrive/DWDMLab/8000gender.txt\", \"r\") as file:\n",
        "    lines = file.readlines()\n",
        "for line in lines:\n",
        "    result.append((line.strip(),\"gender\"))\n",
        "\n",
        "with open(\"/content/drive/MyDrive/DWDMLab/8000notcb.txt\", \"r\") as file:\n",
        "    lines = file.readlines()\n",
        "for line in lines:\n",
        "    result.append((line.strip(),\"not_cyberbullying\"))\n",
        "\n",
        "with open(\"/content/drive/MyDrive/DWDMLab/8000other.txt\", \"r\") as file:\n",
        "    lines = file.readlines()\n",
        "for line in lines:\n",
        "    result.append((line.strip(),\"other_cyberbullying\"))\n",
        "\n",
        "with open(\"/content/drive/MyDrive/DWDMLab/8000religion.txt\", \"r\") as file:\n",
        "    lines = file.readlines()\n",
        "for line in lines:\n",
        "    result.append((line.strip(),\"religion\"))\n",
        "\n",
        "with open(\"/content/drive/MyDrive/DWDMLab/my_cyberbullying_tweets.csv\", \"w\", newline=\"\") as csvfile:\n",
        "    writer = csv.writer(csvfile)\n",
        "    writer.writerow([\"tweet_text\", \"cyberbullying_type\"])\n",
        "    writer.writerows(result)\n",
        "\n",
        "print(\"Output saved to output.csv\")"
      ],
      "metadata": {
        "colab": {
          "base_uri": "https://localhost:8080/"
        },
        "id": "Z8oKj3i8_Mg8",
        "outputId": "e06183fb-2aeb-4b4f-fe94-b5bdfdc522fc"
      },
      "id": "Z8oKj3i8_Mg8",
      "execution_count": 79,
      "outputs": [
        {
          "output_type": "stream",
          "name": "stdout",
          "text": [
            "Output saved to output.csv\n"
          ]
        }
      ]
    },
    {
      "cell_type": "code",
      "source": [],
      "metadata": {
        "id": "gFOs6ajFMl9E"
      },
      "id": "gFOs6ajFMl9E",
      "execution_count": null,
      "outputs": []
    },
    {
      "cell_type": "code",
      "execution_count": 77,
      "id": "80eaea50",
      "metadata": {
        "id": "80eaea50"
      },
      "outputs": [],
      "source": [
        "data = pd.read_csv('/content/drive/MyDrive/DWDMLab/cyberbullying_tweets.csv')"
      ]
    },
    {
      "cell_type": "markdown",
      "id": "f38a4d86",
      "metadata": {
        "id": "f38a4d86"
      },
      "source": [
        "# Initial Review"
      ]
    },
    {
      "cell_type": "code",
      "execution_count": 11,
      "id": "a9e82241",
      "metadata": {
        "id": "a9e82241",
        "outputId": "9e1a2627-e21a-4776-acbd-d2c2bef4dcea",
        "colab": {
          "base_uri": "https://localhost:8080/"
        }
      },
      "outputs": [
        {
          "output_type": "stream",
          "name": "stdout",
          "text": [
            "<class 'pandas.core.frame.DataFrame'>\n",
            "RangeIndex: 47692 entries, 0 to 47691\n",
            "Data columns (total 2 columns):\n",
            " #   Column              Non-Null Count  Dtype \n",
            "---  ------              --------------  ----- \n",
            " 0   tweet_text          47692 non-null  object\n",
            " 1   cyberbullying_type  47692 non-null  object\n",
            "dtypes: object(2)\n",
            "memory usage: 745.3+ KB\n"
          ]
        }
      ],
      "source": [
        "data.info()"
      ]
    },
    {
      "cell_type": "code",
      "execution_count": 12,
      "id": "e4b76404",
      "metadata": {
        "id": "e4b76404",
        "outputId": "aee1b9ae-0e2b-4f94-adcc-eb90b259edc5",
        "colab": {
          "base_uri": "https://localhost:8080/",
          "height": 206
        }
      },
      "outputs": [
        {
          "output_type": "execute_result",
          "data": {
            "text/plain": [
              "                                          tweet_text cyberbullying_type\n",
              "0  In other words #katandandre, your food was cra...  not_cyberbullying\n",
              "1  Why is #aussietv so white? #MKR #theblock #ImA...  not_cyberbullying\n",
              "2  @XochitlSuckkks a classy whore? Or more red ve...  not_cyberbullying\n",
              "3  @Jason_Gio meh. :P  thanks for the heads up, b...  not_cyberbullying\n",
              "4  @RudhoeEnglish This is an ISIS account pretend...  not_cyberbullying"
            ],
            "text/html": [
              "\n",
              "  <div id=\"df-ff40a037-9aaf-4bae-845e-db940f1ab345\">\n",
              "    <div class=\"colab-df-container\">\n",
              "      <div>\n",
              "<style scoped>\n",
              "    .dataframe tbody tr th:only-of-type {\n",
              "        vertical-align: middle;\n",
              "    }\n",
              "\n",
              "    .dataframe tbody tr th {\n",
              "        vertical-align: top;\n",
              "    }\n",
              "\n",
              "    .dataframe thead th {\n",
              "        text-align: right;\n",
              "    }\n",
              "</style>\n",
              "<table border=\"1\" class=\"dataframe\">\n",
              "  <thead>\n",
              "    <tr style=\"text-align: right;\">\n",
              "      <th></th>\n",
              "      <th>tweet_text</th>\n",
              "      <th>cyberbullying_type</th>\n",
              "    </tr>\n",
              "  </thead>\n",
              "  <tbody>\n",
              "    <tr>\n",
              "      <th>0</th>\n",
              "      <td>In other words #katandandre, your food was cra...</td>\n",
              "      <td>not_cyberbullying</td>\n",
              "    </tr>\n",
              "    <tr>\n",
              "      <th>1</th>\n",
              "      <td>Why is #aussietv so white? #MKR #theblock #ImA...</td>\n",
              "      <td>not_cyberbullying</td>\n",
              "    </tr>\n",
              "    <tr>\n",
              "      <th>2</th>\n",
              "      <td>@XochitlSuckkks a classy whore? Or more red ve...</td>\n",
              "      <td>not_cyberbullying</td>\n",
              "    </tr>\n",
              "    <tr>\n",
              "      <th>3</th>\n",
              "      <td>@Jason_Gio meh. :P  thanks for the heads up, b...</td>\n",
              "      <td>not_cyberbullying</td>\n",
              "    </tr>\n",
              "    <tr>\n",
              "      <th>4</th>\n",
              "      <td>@RudhoeEnglish This is an ISIS account pretend...</td>\n",
              "      <td>not_cyberbullying</td>\n",
              "    </tr>\n",
              "  </tbody>\n",
              "</table>\n",
              "</div>\n",
              "      <button class=\"colab-df-convert\" onclick=\"convertToInteractive('df-ff40a037-9aaf-4bae-845e-db940f1ab345')\"\n",
              "              title=\"Convert this dataframe to an interactive table.\"\n",
              "              style=\"display:none;\">\n",
              "        \n",
              "  <svg xmlns=\"http://www.w3.org/2000/svg\" height=\"24px\"viewBox=\"0 0 24 24\"\n",
              "       width=\"24px\">\n",
              "    <path d=\"M0 0h24v24H0V0z\" fill=\"none\"/>\n",
              "    <path d=\"M18.56 5.44l.94 2.06.94-2.06 2.06-.94-2.06-.94-.94-2.06-.94 2.06-2.06.94zm-11 1L8.5 8.5l.94-2.06 2.06-.94-2.06-.94L8.5 2.5l-.94 2.06-2.06.94zm10 10l.94 2.06.94-2.06 2.06-.94-2.06-.94-.94-2.06-.94 2.06-2.06.94z\"/><path d=\"M17.41 7.96l-1.37-1.37c-.4-.4-.92-.59-1.43-.59-.52 0-1.04.2-1.43.59L10.3 9.45l-7.72 7.72c-.78.78-.78 2.05 0 2.83L4 21.41c.39.39.9.59 1.41.59.51 0 1.02-.2 1.41-.59l7.78-7.78 2.81-2.81c.8-.78.8-2.07 0-2.86zM5.41 20L4 18.59l7.72-7.72 1.47 1.35L5.41 20z\"/>\n",
              "  </svg>\n",
              "      </button>\n",
              "      \n",
              "  <style>\n",
              "    .colab-df-container {\n",
              "      display:flex;\n",
              "      flex-wrap:wrap;\n",
              "      gap: 12px;\n",
              "    }\n",
              "\n",
              "    .colab-df-convert {\n",
              "      background-color: #E8F0FE;\n",
              "      border: none;\n",
              "      border-radius: 50%;\n",
              "      cursor: pointer;\n",
              "      display: none;\n",
              "      fill: #1967D2;\n",
              "      height: 32px;\n",
              "      padding: 0 0 0 0;\n",
              "      width: 32px;\n",
              "    }\n",
              "\n",
              "    .colab-df-convert:hover {\n",
              "      background-color: #E2EBFA;\n",
              "      box-shadow: 0px 1px 2px rgba(60, 64, 67, 0.3), 0px 1px 3px 1px rgba(60, 64, 67, 0.15);\n",
              "      fill: #174EA6;\n",
              "    }\n",
              "\n",
              "    [theme=dark] .colab-df-convert {\n",
              "      background-color: #3B4455;\n",
              "      fill: #D2E3FC;\n",
              "    }\n",
              "\n",
              "    [theme=dark] .colab-df-convert:hover {\n",
              "      background-color: #434B5C;\n",
              "      box-shadow: 0px 1px 3px 1px rgba(0, 0, 0, 0.15);\n",
              "      filter: drop-shadow(0px 1px 2px rgba(0, 0, 0, 0.3));\n",
              "      fill: #FFFFFF;\n",
              "    }\n",
              "  </style>\n",
              "\n",
              "      <script>\n",
              "        const buttonEl =\n",
              "          document.querySelector('#df-ff40a037-9aaf-4bae-845e-db940f1ab345 button.colab-df-convert');\n",
              "        buttonEl.style.display =\n",
              "          google.colab.kernel.accessAllowed ? 'block' : 'none';\n",
              "\n",
              "        async function convertToInteractive(key) {\n",
              "          const element = document.querySelector('#df-ff40a037-9aaf-4bae-845e-db940f1ab345');\n",
              "          const dataTable =\n",
              "            await google.colab.kernel.invokeFunction('convertToInteractive',\n",
              "                                                     [key], {});\n",
              "          if (!dataTable) return;\n",
              "\n",
              "          const docLinkHtml = 'Like what you see? Visit the ' +\n",
              "            '<a target=\"_blank\" href=https://colab.research.google.com/notebooks/data_table.ipynb>data table notebook</a>'\n",
              "            + ' to learn more about interactive tables.';\n",
              "          element.innerHTML = '';\n",
              "          dataTable['output_type'] = 'display_data';\n",
              "          await google.colab.output.renderOutput(dataTable, element);\n",
              "          const docLink = document.createElement('div');\n",
              "          docLink.innerHTML = docLinkHtml;\n",
              "          element.appendChild(docLink);\n",
              "        }\n",
              "      </script>\n",
              "    </div>\n",
              "  </div>\n",
              "  "
            ]
          },
          "metadata": {},
          "execution_count": 12
        }
      ],
      "source": [
        "data.head()"
      ]
    },
    {
      "cell_type": "markdown",
      "id": "1d39d45b",
      "metadata": {
        "id": "1d39d45b"
      },
      "source": [
        "# Checking Missing Values"
      ]
    },
    {
      "cell_type": "code",
      "execution_count": 13,
      "id": "1f37920c",
      "metadata": {
        "id": "1f37920c",
        "outputId": "d0ae9919-6e9c-4b6d-fb5b-3caa4b669c33",
        "colab": {
          "base_uri": "https://localhost:8080/"
        }
      },
      "outputs": [
        {
          "output_type": "execute_result",
          "data": {
            "text/plain": [
              "tweet_text            0\n",
              "cyberbullying_type    0\n",
              "dtype: int64"
            ]
          },
          "metadata": {},
          "execution_count": 13
        }
      ],
      "source": [
        "data.isnull().sum()"
      ]
    },
    {
      "cell_type": "markdown",
      "id": "0ebf3d47",
      "metadata": {
        "id": "0ebf3d47"
      },
      "source": [
        "## No Missing Values found!"
      ]
    },
    {
      "cell_type": "code",
      "execution_count": 14,
      "id": "68802ba4",
      "metadata": {
        "id": "68802ba4",
        "outputId": "111dcfb7-9413-4253-9e85-05d29c20d0c4",
        "colab": {
          "base_uri": "https://localhost:8080/"
        }
      },
      "outputs": [
        {
          "output_type": "execute_result",
          "data": {
            "text/plain": [
              "religion               7998\n",
              "age                    7992\n",
              "gender                 7973\n",
              "ethnicity              7961\n",
              "not_cyberbullying      7945\n",
              "other_cyberbullying    7823\n",
              "Name: cyberbullying_type, dtype: int64"
            ]
          },
          "metadata": {},
          "execution_count": 14
        }
      ],
      "source": [
        "data['cyberbullying_type'].value_counts()"
      ]
    },
    {
      "cell_type": "markdown",
      "id": "2b30bb5b",
      "metadata": {
        "id": "2b30bb5b"
      },
      "source": [
        "## Renaming columns for better understanding"
      ]
    },
    {
      "cell_type": "code",
      "execution_count": 15,
      "id": "19692219",
      "metadata": {
        "id": "19692219"
      },
      "outputs": [],
      "source": [
        "data = data.rename(columns={'tweet_text': 'text', 'cyberbullying_type': 'sentiment'})"
      ]
    },
    {
      "cell_type": "code",
      "execution_count": 16,
      "id": "3bd23113",
      "metadata": {
        "id": "3bd23113",
        "outputId": "8871447d-204e-4e6b-d187-3d71c63d5cbf",
        "colab": {
          "base_uri": "https://localhost:8080/",
          "height": 206
        }
      },
      "outputs": [
        {
          "output_type": "execute_result",
          "data": {
            "text/plain": [
              "                                                text          sentiment\n",
              "0  In other words #katandandre, your food was cra...  not_cyberbullying\n",
              "1  Why is #aussietv so white? #MKR #theblock #ImA...  not_cyberbullying\n",
              "2  @XochitlSuckkks a classy whore? Or more red ve...  not_cyberbullying\n",
              "3  @Jason_Gio meh. :P  thanks for the heads up, b...  not_cyberbullying\n",
              "4  @RudhoeEnglish This is an ISIS account pretend...  not_cyberbullying"
            ],
            "text/html": [
              "\n",
              "  <div id=\"df-0d69c17d-776b-424a-8956-b02f8f4361a2\">\n",
              "    <div class=\"colab-df-container\">\n",
              "      <div>\n",
              "<style scoped>\n",
              "    .dataframe tbody tr th:only-of-type {\n",
              "        vertical-align: middle;\n",
              "    }\n",
              "\n",
              "    .dataframe tbody tr th {\n",
              "        vertical-align: top;\n",
              "    }\n",
              "\n",
              "    .dataframe thead th {\n",
              "        text-align: right;\n",
              "    }\n",
              "</style>\n",
              "<table border=\"1\" class=\"dataframe\">\n",
              "  <thead>\n",
              "    <tr style=\"text-align: right;\">\n",
              "      <th></th>\n",
              "      <th>text</th>\n",
              "      <th>sentiment</th>\n",
              "    </tr>\n",
              "  </thead>\n",
              "  <tbody>\n",
              "    <tr>\n",
              "      <th>0</th>\n",
              "      <td>In other words #katandandre, your food was cra...</td>\n",
              "      <td>not_cyberbullying</td>\n",
              "    </tr>\n",
              "    <tr>\n",
              "      <th>1</th>\n",
              "      <td>Why is #aussietv so white? #MKR #theblock #ImA...</td>\n",
              "      <td>not_cyberbullying</td>\n",
              "    </tr>\n",
              "    <tr>\n",
              "      <th>2</th>\n",
              "      <td>@XochitlSuckkks a classy whore? Or more red ve...</td>\n",
              "      <td>not_cyberbullying</td>\n",
              "    </tr>\n",
              "    <tr>\n",
              "      <th>3</th>\n",
              "      <td>@Jason_Gio meh. :P  thanks for the heads up, b...</td>\n",
              "      <td>not_cyberbullying</td>\n",
              "    </tr>\n",
              "    <tr>\n",
              "      <th>4</th>\n",
              "      <td>@RudhoeEnglish This is an ISIS account pretend...</td>\n",
              "      <td>not_cyberbullying</td>\n",
              "    </tr>\n",
              "  </tbody>\n",
              "</table>\n",
              "</div>\n",
              "      <button class=\"colab-df-convert\" onclick=\"convertToInteractive('df-0d69c17d-776b-424a-8956-b02f8f4361a2')\"\n",
              "              title=\"Convert this dataframe to an interactive table.\"\n",
              "              style=\"display:none;\">\n",
              "        \n",
              "  <svg xmlns=\"http://www.w3.org/2000/svg\" height=\"24px\"viewBox=\"0 0 24 24\"\n",
              "       width=\"24px\">\n",
              "    <path d=\"M0 0h24v24H0V0z\" fill=\"none\"/>\n",
              "    <path d=\"M18.56 5.44l.94 2.06.94-2.06 2.06-.94-2.06-.94-.94-2.06-.94 2.06-2.06.94zm-11 1L8.5 8.5l.94-2.06 2.06-.94-2.06-.94L8.5 2.5l-.94 2.06-2.06.94zm10 10l.94 2.06.94-2.06 2.06-.94-2.06-.94-.94-2.06-.94 2.06-2.06.94z\"/><path d=\"M17.41 7.96l-1.37-1.37c-.4-.4-.92-.59-1.43-.59-.52 0-1.04.2-1.43.59L10.3 9.45l-7.72 7.72c-.78.78-.78 2.05 0 2.83L4 21.41c.39.39.9.59 1.41.59.51 0 1.02-.2 1.41-.59l7.78-7.78 2.81-2.81c.8-.78.8-2.07 0-2.86zM5.41 20L4 18.59l7.72-7.72 1.47 1.35L5.41 20z\"/>\n",
              "  </svg>\n",
              "      </button>\n",
              "      \n",
              "  <style>\n",
              "    .colab-df-container {\n",
              "      display:flex;\n",
              "      flex-wrap:wrap;\n",
              "      gap: 12px;\n",
              "    }\n",
              "\n",
              "    .colab-df-convert {\n",
              "      background-color: #E8F0FE;\n",
              "      border: none;\n",
              "      border-radius: 50%;\n",
              "      cursor: pointer;\n",
              "      display: none;\n",
              "      fill: #1967D2;\n",
              "      height: 32px;\n",
              "      padding: 0 0 0 0;\n",
              "      width: 32px;\n",
              "    }\n",
              "\n",
              "    .colab-df-convert:hover {\n",
              "      background-color: #E2EBFA;\n",
              "      box-shadow: 0px 1px 2px rgba(60, 64, 67, 0.3), 0px 1px 3px 1px rgba(60, 64, 67, 0.15);\n",
              "      fill: #174EA6;\n",
              "    }\n",
              "\n",
              "    [theme=dark] .colab-df-convert {\n",
              "      background-color: #3B4455;\n",
              "      fill: #D2E3FC;\n",
              "    }\n",
              "\n",
              "    [theme=dark] .colab-df-convert:hover {\n",
              "      background-color: #434B5C;\n",
              "      box-shadow: 0px 1px 3px 1px rgba(0, 0, 0, 0.15);\n",
              "      filter: drop-shadow(0px 1px 2px rgba(0, 0, 0, 0.3));\n",
              "      fill: #FFFFFF;\n",
              "    }\n",
              "  </style>\n",
              "\n",
              "      <script>\n",
              "        const buttonEl =\n",
              "          document.querySelector('#df-0d69c17d-776b-424a-8956-b02f8f4361a2 button.colab-df-convert');\n",
              "        buttonEl.style.display =\n",
              "          google.colab.kernel.accessAllowed ? 'block' : 'none';\n",
              "\n",
              "        async function convertToInteractive(key) {\n",
              "          const element = document.querySelector('#df-0d69c17d-776b-424a-8956-b02f8f4361a2');\n",
              "          const dataTable =\n",
              "            await google.colab.kernel.invokeFunction('convertToInteractive',\n",
              "                                                     [key], {});\n",
              "          if (!dataTable) return;\n",
              "\n",
              "          const docLinkHtml = 'Like what you see? Visit the ' +\n",
              "            '<a target=\"_blank\" href=https://colab.research.google.com/notebooks/data_table.ipynb>data table notebook</a>'\n",
              "            + ' to learn more about interactive tables.';\n",
              "          element.innerHTML = '';\n",
              "          dataTable['output_type'] = 'display_data';\n",
              "          await google.colab.output.renderOutput(dataTable, element);\n",
              "          const docLink = document.createElement('div');\n",
              "          docLink.innerHTML = docLinkHtml;\n",
              "          element.appendChild(docLink);\n",
              "        }\n",
              "      </script>\n",
              "    </div>\n",
              "  </div>\n",
              "  "
            ]
          },
          "metadata": {},
          "execution_count": 16
        }
      ],
      "source": [
        "data.head()"
      ]
    },
    {
      "cell_type": "markdown",
      "id": "f4d7a66e",
      "metadata": {
        "id": "f4d7a66e"
      },
      "source": [
        "### Adding Encoded column for sentiments"
      ]
    },
    {
      "cell_type": "code",
      "execution_count": 17,
      "id": "82ce3b59",
      "metadata": {
        "id": "82ce3b59"
      },
      "outputs": [],
      "source": [
        "data[\"sentiment_encoded\"] = data['sentiment'].replace({\"religion\": 1, \"age\": 2, \"ethnicity\": 3, \"gender\": 4, \"other_cyberbullying\": 5,\"not_cyberbullying\": 6})"
      ]
    },
    {
      "cell_type": "code",
      "execution_count": 18,
      "id": "2de2f9da",
      "metadata": {
        "id": "2de2f9da",
        "outputId": "6ad95252-18b5-4ce8-e43b-8cd545900482",
        "colab": {
          "base_uri": "https://localhost:8080/",
          "height": 206
        }
      },
      "outputs": [
        {
          "output_type": "execute_result",
          "data": {
            "text/plain": [
              "                                                text          sentiment  \\\n",
              "0  In other words #katandandre, your food was cra...  not_cyberbullying   \n",
              "1  Why is #aussietv so white? #MKR #theblock #ImA...  not_cyberbullying   \n",
              "2  @XochitlSuckkks a classy whore? Or more red ve...  not_cyberbullying   \n",
              "3  @Jason_Gio meh. :P  thanks for the heads up, b...  not_cyberbullying   \n",
              "4  @RudhoeEnglish This is an ISIS account pretend...  not_cyberbullying   \n",
              "\n",
              "   sentiment_encoded  \n",
              "0                  6  \n",
              "1                  6  \n",
              "2                  6  \n",
              "3                  6  \n",
              "4                  6  "
            ],
            "text/html": [
              "\n",
              "  <div id=\"df-96e75599-3c81-44ac-915e-3b494cec9ac3\">\n",
              "    <div class=\"colab-df-container\">\n",
              "      <div>\n",
              "<style scoped>\n",
              "    .dataframe tbody tr th:only-of-type {\n",
              "        vertical-align: middle;\n",
              "    }\n",
              "\n",
              "    .dataframe tbody tr th {\n",
              "        vertical-align: top;\n",
              "    }\n",
              "\n",
              "    .dataframe thead th {\n",
              "        text-align: right;\n",
              "    }\n",
              "</style>\n",
              "<table border=\"1\" class=\"dataframe\">\n",
              "  <thead>\n",
              "    <tr style=\"text-align: right;\">\n",
              "      <th></th>\n",
              "      <th>text</th>\n",
              "      <th>sentiment</th>\n",
              "      <th>sentiment_encoded</th>\n",
              "    </tr>\n",
              "  </thead>\n",
              "  <tbody>\n",
              "    <tr>\n",
              "      <th>0</th>\n",
              "      <td>In other words #katandandre, your food was cra...</td>\n",
              "      <td>not_cyberbullying</td>\n",
              "      <td>6</td>\n",
              "    </tr>\n",
              "    <tr>\n",
              "      <th>1</th>\n",
              "      <td>Why is #aussietv so white? #MKR #theblock #ImA...</td>\n",
              "      <td>not_cyberbullying</td>\n",
              "      <td>6</td>\n",
              "    </tr>\n",
              "    <tr>\n",
              "      <th>2</th>\n",
              "      <td>@XochitlSuckkks a classy whore? Or more red ve...</td>\n",
              "      <td>not_cyberbullying</td>\n",
              "      <td>6</td>\n",
              "    </tr>\n",
              "    <tr>\n",
              "      <th>3</th>\n",
              "      <td>@Jason_Gio meh. :P  thanks for the heads up, b...</td>\n",
              "      <td>not_cyberbullying</td>\n",
              "      <td>6</td>\n",
              "    </tr>\n",
              "    <tr>\n",
              "      <th>4</th>\n",
              "      <td>@RudhoeEnglish This is an ISIS account pretend...</td>\n",
              "      <td>not_cyberbullying</td>\n",
              "      <td>6</td>\n",
              "    </tr>\n",
              "  </tbody>\n",
              "</table>\n",
              "</div>\n",
              "      <button class=\"colab-df-convert\" onclick=\"convertToInteractive('df-96e75599-3c81-44ac-915e-3b494cec9ac3')\"\n",
              "              title=\"Convert this dataframe to an interactive table.\"\n",
              "              style=\"display:none;\">\n",
              "        \n",
              "  <svg xmlns=\"http://www.w3.org/2000/svg\" height=\"24px\"viewBox=\"0 0 24 24\"\n",
              "       width=\"24px\">\n",
              "    <path d=\"M0 0h24v24H0V0z\" fill=\"none\"/>\n",
              "    <path d=\"M18.56 5.44l.94 2.06.94-2.06 2.06-.94-2.06-.94-.94-2.06-.94 2.06-2.06.94zm-11 1L8.5 8.5l.94-2.06 2.06-.94-2.06-.94L8.5 2.5l-.94 2.06-2.06.94zm10 10l.94 2.06.94-2.06 2.06-.94-2.06-.94-.94-2.06-.94 2.06-2.06.94z\"/><path d=\"M17.41 7.96l-1.37-1.37c-.4-.4-.92-.59-1.43-.59-.52 0-1.04.2-1.43.59L10.3 9.45l-7.72 7.72c-.78.78-.78 2.05 0 2.83L4 21.41c.39.39.9.59 1.41.59.51 0 1.02-.2 1.41-.59l7.78-7.78 2.81-2.81c.8-.78.8-2.07 0-2.86zM5.41 20L4 18.59l7.72-7.72 1.47 1.35L5.41 20z\"/>\n",
              "  </svg>\n",
              "      </button>\n",
              "      \n",
              "  <style>\n",
              "    .colab-df-container {\n",
              "      display:flex;\n",
              "      flex-wrap:wrap;\n",
              "      gap: 12px;\n",
              "    }\n",
              "\n",
              "    .colab-df-convert {\n",
              "      background-color: #E8F0FE;\n",
              "      border: none;\n",
              "      border-radius: 50%;\n",
              "      cursor: pointer;\n",
              "      display: none;\n",
              "      fill: #1967D2;\n",
              "      height: 32px;\n",
              "      padding: 0 0 0 0;\n",
              "      width: 32px;\n",
              "    }\n",
              "\n",
              "    .colab-df-convert:hover {\n",
              "      background-color: #E2EBFA;\n",
              "      box-shadow: 0px 1px 2px rgba(60, 64, 67, 0.3), 0px 1px 3px 1px rgba(60, 64, 67, 0.15);\n",
              "      fill: #174EA6;\n",
              "    }\n",
              "\n",
              "    [theme=dark] .colab-df-convert {\n",
              "      background-color: #3B4455;\n",
              "      fill: #D2E3FC;\n",
              "    }\n",
              "\n",
              "    [theme=dark] .colab-df-convert:hover {\n",
              "      background-color: #434B5C;\n",
              "      box-shadow: 0px 1px 3px 1px rgba(0, 0, 0, 0.15);\n",
              "      filter: drop-shadow(0px 1px 2px rgba(0, 0, 0, 0.3));\n",
              "      fill: #FFFFFF;\n",
              "    }\n",
              "  </style>\n",
              "\n",
              "      <script>\n",
              "        const buttonEl =\n",
              "          document.querySelector('#df-96e75599-3c81-44ac-915e-3b494cec9ac3 button.colab-df-convert');\n",
              "        buttonEl.style.display =\n",
              "          google.colab.kernel.accessAllowed ? 'block' : 'none';\n",
              "\n",
              "        async function convertToInteractive(key) {\n",
              "          const element = document.querySelector('#df-96e75599-3c81-44ac-915e-3b494cec9ac3');\n",
              "          const dataTable =\n",
              "            await google.colab.kernel.invokeFunction('convertToInteractive',\n",
              "                                                     [key], {});\n",
              "          if (!dataTable) return;\n",
              "\n",
              "          const docLinkHtml = 'Like what you see? Visit the ' +\n",
              "            '<a target=\"_blank\" href=https://colab.research.google.com/notebooks/data_table.ipynb>data table notebook</a>'\n",
              "            + ' to learn more about interactive tables.';\n",
              "          element.innerHTML = '';\n",
              "          dataTable['output_type'] = 'display_data';\n",
              "          await google.colab.output.renderOutput(dataTable, element);\n",
              "          const docLink = document.createElement('div');\n",
              "          docLink.innerHTML = docLinkHtml;\n",
              "          element.appendChild(docLink);\n",
              "        }\n",
              "      </script>\n",
              "    </div>\n",
              "  </div>\n",
              "  "
            ]
          },
          "metadata": {},
          "execution_count": 18
        }
      ],
      "source": [
        "data.head()"
      ]
    },
    {
      "cell_type": "code",
      "execution_count": 21,
      "id": "e9688ee2",
      "metadata": {
        "id": "e9688ee2",
        "colab": {
          "base_uri": "https://localhost:8080/"
        },
        "outputId": "fbb6572c-7c3f-4c97-aa17-89ff0baa416f"
      },
      "outputs": [
        {
          "output_type": "stream",
          "name": "stderr",
          "text": [
            "[nltk_data] Downloading package stopwords to /root/nltk_data...\n",
            "[nltk_data]   Unzipping corpora/stopwords.zip.\n"
          ]
        }
      ],
      "source": [
        "import nltk\n",
        "nltk.download('stopwords')\n",
        "stop_words = set(stopwords.words('english'))"
      ]
    },
    {
      "cell_type": "markdown",
      "id": "9f0aec9b",
      "metadata": {
        "id": "9f0aec9b"
      },
      "source": [
        "# Preprocessing of Text"
      ]
    },
    {
      "cell_type": "markdown",
      "id": "f77655a0",
      "metadata": {
        "id": "f77655a0"
      },
      "source": [
        "## Function to Remove Emojis"
      ]
    },
    {
      "cell_type": "code",
      "execution_count": 22,
      "id": "84b3ac54",
      "metadata": {
        "id": "84b3ac54"
      },
      "outputs": [],
      "source": [
        "def strip_emoji(text):\n",
        "    return emoji.replace_emoji(text,replace=\"\")"
      ]
    },
    {
      "cell_type": "markdown",
      "id": "5810f430",
      "metadata": {
        "id": "5810f430"
      },
      "source": [
        "## Fucntion to Convert text to lowercase, remove (/r, /n  characters), URLs, non-utf characters, Numbers, punctuations,stopwords"
      ]
    },
    {
      "cell_type": "code",
      "execution_count": 23,
      "id": "5f08710c",
      "metadata": {
        "id": "5f08710c"
      },
      "outputs": [],
      "source": [
        "def strip_all_entities(text): \n",
        "    text = text.replace('\\r', '').replace('\\n', ' ').lower()\n",
        "    text = re.sub(r\"(?:\\@|https?\\://)\\S+\", \"\", text)\n",
        "    text = re.sub(r'[^\\x00-\\x7f]',r'', text)\n",
        "    text = re.sub(r'(.)1+', r'1', text)\n",
        "    text = re.sub('[0-9]+', '', text)\n",
        "    stopchars= string.punctuation\n",
        "    table = str.maketrans('', '', stopchars)\n",
        "    text = text.translate(table)\n",
        "    text = [word for word in text.split() if word not in stop_words]\n",
        "    text = ' '.join(text)\n",
        "    return text"
      ]
    },
    {
      "cell_type": "markdown",
      "id": "03e802f4",
      "metadata": {
        "id": "03e802f4"
      },
      "source": [
        "## Function to remove contractions"
      ]
    },
    {
      "cell_type": "code",
      "execution_count": 24,
      "id": "9363df94",
      "metadata": {
        "id": "9363df94"
      },
      "outputs": [],
      "source": [
        "def decontract(text):\n",
        "    text = re.sub(r\"can\\'t\", \"can not\", text)\n",
        "    text = re.sub(r\"n\\'t\", \" not\", text)\n",
        "    text = re.sub(r\"\\'re\", \" are\", text)\n",
        "    text = re.sub(r\"\\'s\", \" is\", text)\n",
        "    text = re.sub(r\"\\'d\", \" would\", text)\n",
        "    text = re.sub(r\"\\'ll\", \" will\", text)\n",
        "    text = re.sub(r\"\\'t\", \" not\", text)\n",
        "    text = re.sub(r\"\\'ve\", \" have\", text)\n",
        "    text = re.sub(r\"\\'m\", \" am\", text)\n",
        "    return text"
      ]
    },
    {
      "cell_type": "markdown",
      "id": "f27f734c",
      "metadata": {
        "id": "f27f734c"
      },
      "source": [
        "## Function to Clean Hashtags"
      ]
    },
    {
      "cell_type": "code",
      "execution_count": 25,
      "id": "6047710b",
      "metadata": {
        "id": "6047710b"
      },
      "outputs": [],
      "source": [
        "def clean_hashtags(tweet):\n",
        "    new_tweet = \" \".join(word.strip() for word in re.split('#(?!(?:hashtag)\\b)[\\w-]+(?=(?:\\s+#[\\w-]+)*\\s*$)', tweet))\n",
        "    new_tweet2 = \" \".join(word.strip() for word in re.split('#|_', new_tweet))\n",
        "    return new_tweet2"
      ]
    },
    {
      "cell_type": "markdown",
      "id": "0ec23586",
      "metadata": {
        "id": "0ec23586"
      },
      "source": [
        "## Function to Filter Special Characters such as $, &"
      ]
    },
    {
      "cell_type": "code",
      "execution_count": 26,
      "id": "8ec1f6ad",
      "metadata": {
        "id": "8ec1f6ad"
      },
      "outputs": [],
      "source": [
        "def filter_chars(a):\n",
        "    sent = []\n",
        "    for word in a.split(' '):\n",
        "        if ('$' in word) | ('&' in word):\n",
        "            sent.append('')\n",
        "        else:\n",
        "            sent.append(word)\n",
        "    return ' '.join(sent)"
      ]
    },
    {
      "cell_type": "markdown",
      "id": "6f914a9f",
      "metadata": {
        "id": "6f914a9f"
      },
      "source": [
        "## Function to remove mutiple sequence spaces"
      ]
    },
    {
      "cell_type": "code",
      "execution_count": 27,
      "id": "4aef21fa",
      "metadata": {
        "id": "4aef21fa"
      },
      "outputs": [],
      "source": [
        "def remove_mult_spaces(text):\n",
        "    return re.sub(\"\\s\\s+\" , \" \", text)\n"
      ]
    },
    {
      "cell_type": "markdown",
      "id": "94b7ce8e",
      "metadata": {
        "id": "94b7ce8e"
      },
      "source": [
        "## Function to apply stemming to words"
      ]
    },
    {
      "cell_type": "code",
      "execution_count": 28,
      "id": "aded2220",
      "metadata": {
        "id": "aded2220"
      },
      "outputs": [],
      "source": [
        "def stemmer(text):\n",
        "    tokenized = nltk.word_tokenize(text)\n",
        "    ps = PorterStemmer()\n",
        "    return ' '.join([ps.stem(words) for words in tokenized])"
      ]
    },
    {
      "cell_type": "markdown",
      "id": "06f11695",
      "metadata": {
        "id": "06f11695"
      },
      "source": [
        "## Function to apply lemmatization to words"
      ]
    },
    {
      "cell_type": "code",
      "execution_count": 29,
      "id": "bc526527",
      "metadata": {
        "id": "bc526527"
      },
      "outputs": [],
      "source": [
        "def lemmatize(text):\n",
        "    tokenized = nltk.word_tokenize(text)\n",
        "    lm = WordNetLemmatizer()\n",
        "    return ' '.join([lm.lemmatize(words) for words in tokenized])"
      ]
    },
    {
      "cell_type": "markdown",
      "id": "1cf32981",
      "metadata": {
        "id": "1cf32981"
      },
      "source": [
        "## Function to Preprocess the text by applying all above functions"
      ]
    },
    {
      "cell_type": "code",
      "execution_count": 30,
      "id": "6e656d3a",
      "metadata": {
        "id": "6e656d3a"
      },
      "outputs": [],
      "source": [
        "def preprocess(text):\n",
        "    text = strip_emoji(text)\n",
        "    text = decontract(text)\n",
        "    text = strip_all_entities(text)\n",
        "    text = clean_hashtags(text)\n",
        "    text = filter_chars(text)\n",
        "    text = remove_mult_spaces(text)\n",
        "    text = stemmer(text)\n",
        "    text = lemmatize(text)\n",
        "    return text"
      ]
    },
    {
      "cell_type": "code",
      "execution_count": 33,
      "id": "5f73f2a5",
      "metadata": {
        "scrolled": true,
        "id": "5f73f2a5",
        "outputId": "4bd710f8-16a7-434c-fb5a-2157e7756f6b",
        "colab": {
          "base_uri": "https://localhost:8080/",
          "height": 304
        }
      },
      "outputs": [
        {
          "output_type": "stream",
          "name": "stderr",
          "text": [
            "[nltk_data] Downloading package punkt to /root/nltk_data...\n",
            "[nltk_data]   Package punkt is already up-to-date!\n",
            "[nltk_data] Downloading package wordnet to /root/nltk_data...\n"
          ]
        },
        {
          "output_type": "execute_result",
          "data": {
            "text/plain": [
              "                                                text          sentiment  \\\n",
              "0  In other words #katandandre, your food was cra...  not_cyberbullying   \n",
              "1  Why is #aussietv so white? #MKR #theblock #ImA...  not_cyberbullying   \n",
              "2  @XochitlSuckkks a classy whore? Or more red ve...  not_cyberbullying   \n",
              "3  @Jason_Gio meh. :P  thanks for the heads up, b...  not_cyberbullying   \n",
              "4  @RudhoeEnglish This is an ISIS account pretend...  not_cyberbullying   \n",
              "\n",
              "   sentiment_encoded                                       cleaned_text  \n",
              "0                  6                 word katandandr food crapilici mkr  \n",
              "1                  6  aussietv white mkr theblock imacelebrityau tod...  \n",
              "2                  6                     classi whore red velvet cupcak  \n",
              "3                  6  meh p thank head concern anoth angri dude twitter  \n",
              "4                  6  isi account pretend kurdish account like islam...  "
            ],
            "text/html": [
              "\n",
              "  <div id=\"df-f9090c12-7a77-4a96-a0bf-167ca4865681\">\n",
              "    <div class=\"colab-df-container\">\n",
              "      <div>\n",
              "<style scoped>\n",
              "    .dataframe tbody tr th:only-of-type {\n",
              "        vertical-align: middle;\n",
              "    }\n",
              "\n",
              "    .dataframe tbody tr th {\n",
              "        vertical-align: top;\n",
              "    }\n",
              "\n",
              "    .dataframe thead th {\n",
              "        text-align: right;\n",
              "    }\n",
              "</style>\n",
              "<table border=\"1\" class=\"dataframe\">\n",
              "  <thead>\n",
              "    <tr style=\"text-align: right;\">\n",
              "      <th></th>\n",
              "      <th>text</th>\n",
              "      <th>sentiment</th>\n",
              "      <th>sentiment_encoded</th>\n",
              "      <th>cleaned_text</th>\n",
              "    </tr>\n",
              "  </thead>\n",
              "  <tbody>\n",
              "    <tr>\n",
              "      <th>0</th>\n",
              "      <td>In other words #katandandre, your food was cra...</td>\n",
              "      <td>not_cyberbullying</td>\n",
              "      <td>6</td>\n",
              "      <td>word katandandr food crapilici mkr</td>\n",
              "    </tr>\n",
              "    <tr>\n",
              "      <th>1</th>\n",
              "      <td>Why is #aussietv so white? #MKR #theblock #ImA...</td>\n",
              "      <td>not_cyberbullying</td>\n",
              "      <td>6</td>\n",
              "      <td>aussietv white mkr theblock imacelebrityau tod...</td>\n",
              "    </tr>\n",
              "    <tr>\n",
              "      <th>2</th>\n",
              "      <td>@XochitlSuckkks a classy whore? Or more red ve...</td>\n",
              "      <td>not_cyberbullying</td>\n",
              "      <td>6</td>\n",
              "      <td>classi whore red velvet cupcak</td>\n",
              "    </tr>\n",
              "    <tr>\n",
              "      <th>3</th>\n",
              "      <td>@Jason_Gio meh. :P  thanks for the heads up, b...</td>\n",
              "      <td>not_cyberbullying</td>\n",
              "      <td>6</td>\n",
              "      <td>meh p thank head concern anoth angri dude twitter</td>\n",
              "    </tr>\n",
              "    <tr>\n",
              "      <th>4</th>\n",
              "      <td>@RudhoeEnglish This is an ISIS account pretend...</td>\n",
              "      <td>not_cyberbullying</td>\n",
              "      <td>6</td>\n",
              "      <td>isi account pretend kurdish account like islam...</td>\n",
              "    </tr>\n",
              "  </tbody>\n",
              "</table>\n",
              "</div>\n",
              "      <button class=\"colab-df-convert\" onclick=\"convertToInteractive('df-f9090c12-7a77-4a96-a0bf-167ca4865681')\"\n",
              "              title=\"Convert this dataframe to an interactive table.\"\n",
              "              style=\"display:none;\">\n",
              "        \n",
              "  <svg xmlns=\"http://www.w3.org/2000/svg\" height=\"24px\"viewBox=\"0 0 24 24\"\n",
              "       width=\"24px\">\n",
              "    <path d=\"M0 0h24v24H0V0z\" fill=\"none\"/>\n",
              "    <path d=\"M18.56 5.44l.94 2.06.94-2.06 2.06-.94-2.06-.94-.94-2.06-.94 2.06-2.06.94zm-11 1L8.5 8.5l.94-2.06 2.06-.94-2.06-.94L8.5 2.5l-.94 2.06-2.06.94zm10 10l.94 2.06.94-2.06 2.06-.94-2.06-.94-.94-2.06-.94 2.06-2.06.94z\"/><path d=\"M17.41 7.96l-1.37-1.37c-.4-.4-.92-.59-1.43-.59-.52 0-1.04.2-1.43.59L10.3 9.45l-7.72 7.72c-.78.78-.78 2.05 0 2.83L4 21.41c.39.39.9.59 1.41.59.51 0 1.02-.2 1.41-.59l7.78-7.78 2.81-2.81c.8-.78.8-2.07 0-2.86zM5.41 20L4 18.59l7.72-7.72 1.47 1.35L5.41 20z\"/>\n",
              "  </svg>\n",
              "      </button>\n",
              "      \n",
              "  <style>\n",
              "    .colab-df-container {\n",
              "      display:flex;\n",
              "      flex-wrap:wrap;\n",
              "      gap: 12px;\n",
              "    }\n",
              "\n",
              "    .colab-df-convert {\n",
              "      background-color: #E8F0FE;\n",
              "      border: none;\n",
              "      border-radius: 50%;\n",
              "      cursor: pointer;\n",
              "      display: none;\n",
              "      fill: #1967D2;\n",
              "      height: 32px;\n",
              "      padding: 0 0 0 0;\n",
              "      width: 32px;\n",
              "    }\n",
              "\n",
              "    .colab-df-convert:hover {\n",
              "      background-color: #E2EBFA;\n",
              "      box-shadow: 0px 1px 2px rgba(60, 64, 67, 0.3), 0px 1px 3px 1px rgba(60, 64, 67, 0.15);\n",
              "      fill: #174EA6;\n",
              "    }\n",
              "\n",
              "    [theme=dark] .colab-df-convert {\n",
              "      background-color: #3B4455;\n",
              "      fill: #D2E3FC;\n",
              "    }\n",
              "\n",
              "    [theme=dark] .colab-df-convert:hover {\n",
              "      background-color: #434B5C;\n",
              "      box-shadow: 0px 1px 3px 1px rgba(0, 0, 0, 0.15);\n",
              "      filter: drop-shadow(0px 1px 2px rgba(0, 0, 0, 0.3));\n",
              "      fill: #FFFFFF;\n",
              "    }\n",
              "  </style>\n",
              "\n",
              "      <script>\n",
              "        const buttonEl =\n",
              "          document.querySelector('#df-f9090c12-7a77-4a96-a0bf-167ca4865681 button.colab-df-convert');\n",
              "        buttonEl.style.display =\n",
              "          google.colab.kernel.accessAllowed ? 'block' : 'none';\n",
              "\n",
              "        async function convertToInteractive(key) {\n",
              "          const element = document.querySelector('#df-f9090c12-7a77-4a96-a0bf-167ca4865681');\n",
              "          const dataTable =\n",
              "            await google.colab.kernel.invokeFunction('convertToInteractive',\n",
              "                                                     [key], {});\n",
              "          if (!dataTable) return;\n",
              "\n",
              "          const docLinkHtml = 'Like what you see? Visit the ' +\n",
              "            '<a target=\"_blank\" href=https://colab.research.google.com/notebooks/data_table.ipynb>data table notebook</a>'\n",
              "            + ' to learn more about interactive tables.';\n",
              "          element.innerHTML = '';\n",
              "          dataTable['output_type'] = 'display_data';\n",
              "          await google.colab.output.renderOutput(dataTable, element);\n",
              "          const docLink = document.createElement('div');\n",
              "          docLink.innerHTML = docLinkHtml;\n",
              "          element.appendChild(docLink);\n",
              "        }\n",
              "      </script>\n",
              "    </div>\n",
              "  </div>\n",
              "  "
            ]
          },
          "metadata": {},
          "execution_count": 33
        }
      ],
      "source": [
        "import nltk\n",
        "nltk.download('punkt')\n",
        "nltk.download('wordnet')\n",
        "data['cleaned_text'] = data['text'].apply(preprocess)\n",
        "data.head()"
      ]
    },
    {
      "cell_type": "markdown",
      "id": "7a1e7731",
      "metadata": {
        "id": "7a1e7731"
      },
      "source": [
        "## Cleaned text added"
      ]
    },
    {
      "cell_type": "markdown",
      "id": "2db44e62",
      "metadata": {
        "id": "2db44e62"
      },
      "source": [
        "## Dealing with Duplicates"
      ]
    },
    {
      "cell_type": "code",
      "execution_count": 34,
      "id": "596a314f",
      "metadata": {
        "id": "596a314f",
        "outputId": "7fe56c47-81a2-4489-9040-c3c9aee4fd0e",
        "colab": {
          "base_uri": "https://localhost:8080/"
        }
      },
      "outputs": [
        {
          "output_type": "execute_result",
          "data": {
            "text/plain": [
              "3041"
            ]
          },
          "metadata": {},
          "execution_count": 34
        }
      ],
      "source": [
        "data[\"cleaned_text\"].duplicated().sum()"
      ]
    },
    {
      "cell_type": "code",
      "execution_count": 35,
      "id": "bbf91544",
      "metadata": {
        "id": "bbf91544"
      },
      "outputs": [],
      "source": [
        "data.drop_duplicates(\"cleaned_text\", inplace=True)"
      ]
    },
    {
      "cell_type": "markdown",
      "id": "13fb3957",
      "metadata": {
        "id": "13fb3957"
      },
      "source": [
        "# Duplicates removed"
      ]
    },
    {
      "cell_type": "markdown",
      "id": "550ff3ff",
      "metadata": {
        "id": "550ff3ff"
      },
      "source": [
        "# Tokenization"
      ]
    },
    {
      "cell_type": "code",
      "execution_count": 36,
      "id": "4023b36e",
      "metadata": {
        "id": "4023b36e",
        "outputId": "f612c0ae-c56f-46e4-a3c0-22837a0841c9",
        "colab": {
          "base_uri": "https://localhost:8080/",
          "height": 337
        }
      },
      "outputs": [
        {
          "output_type": "execute_result",
          "data": {
            "text/plain": [
              "                                                text          sentiment  \\\n",
              "0  In other words #katandandre, your food was cra...  not_cyberbullying   \n",
              "1  Why is #aussietv so white? #MKR #theblock #ImA...  not_cyberbullying   \n",
              "2  @XochitlSuckkks a classy whore? Or more red ve...  not_cyberbullying   \n",
              "3  @Jason_Gio meh. :P  thanks for the heads up, b...  not_cyberbullying   \n",
              "4  @RudhoeEnglish This is an ISIS account pretend...  not_cyberbullying   \n",
              "\n",
              "   sentiment_encoded                                       cleaned_text  \\\n",
              "0                  6                 word katandandr food crapilici mkr   \n",
              "1                  6  aussietv white mkr theblock imacelebrityau tod...   \n",
              "2                  6                     classi whore red velvet cupcak   \n",
              "3                  6  meh p thank head concern anoth angri dude twitter   \n",
              "4                  6  isi account pretend kurdish account like islam...   \n",
              "\n",
              "                                          tweet_list  \n",
              "0           [word, katandandr, food, crapilici, mkr]  \n",
              "1  [aussietv, white, mkr, theblock, imacelebritya...  \n",
              "2               [classi, whore, red, velvet, cupcak]  \n",
              "3  [meh, p, thank, head, concern, anoth, angri, d...  \n",
              "4  [isi, account, pretend, kurdish, account, like...  "
            ],
            "text/html": [
              "\n",
              "  <div id=\"df-931494dc-1485-48bb-86c0-ac38775b12d3\">\n",
              "    <div class=\"colab-df-container\">\n",
              "      <div>\n",
              "<style scoped>\n",
              "    .dataframe tbody tr th:only-of-type {\n",
              "        vertical-align: middle;\n",
              "    }\n",
              "\n",
              "    .dataframe tbody tr th {\n",
              "        vertical-align: top;\n",
              "    }\n",
              "\n",
              "    .dataframe thead th {\n",
              "        text-align: right;\n",
              "    }\n",
              "</style>\n",
              "<table border=\"1\" class=\"dataframe\">\n",
              "  <thead>\n",
              "    <tr style=\"text-align: right;\">\n",
              "      <th></th>\n",
              "      <th>text</th>\n",
              "      <th>sentiment</th>\n",
              "      <th>sentiment_encoded</th>\n",
              "      <th>cleaned_text</th>\n",
              "      <th>tweet_list</th>\n",
              "    </tr>\n",
              "  </thead>\n",
              "  <tbody>\n",
              "    <tr>\n",
              "      <th>0</th>\n",
              "      <td>In other words #katandandre, your food was cra...</td>\n",
              "      <td>not_cyberbullying</td>\n",
              "      <td>6</td>\n",
              "      <td>word katandandr food crapilici mkr</td>\n",
              "      <td>[word, katandandr, food, crapilici, mkr]</td>\n",
              "    </tr>\n",
              "    <tr>\n",
              "      <th>1</th>\n",
              "      <td>Why is #aussietv so white? #MKR #theblock #ImA...</td>\n",
              "      <td>not_cyberbullying</td>\n",
              "      <td>6</td>\n",
              "      <td>aussietv white mkr theblock imacelebrityau tod...</td>\n",
              "      <td>[aussietv, white, mkr, theblock, imacelebritya...</td>\n",
              "    </tr>\n",
              "    <tr>\n",
              "      <th>2</th>\n",
              "      <td>@XochitlSuckkks a classy whore? Or more red ve...</td>\n",
              "      <td>not_cyberbullying</td>\n",
              "      <td>6</td>\n",
              "      <td>classi whore red velvet cupcak</td>\n",
              "      <td>[classi, whore, red, velvet, cupcak]</td>\n",
              "    </tr>\n",
              "    <tr>\n",
              "      <th>3</th>\n",
              "      <td>@Jason_Gio meh. :P  thanks for the heads up, b...</td>\n",
              "      <td>not_cyberbullying</td>\n",
              "      <td>6</td>\n",
              "      <td>meh p thank head concern anoth angri dude twitter</td>\n",
              "      <td>[meh, p, thank, head, concern, anoth, angri, d...</td>\n",
              "    </tr>\n",
              "    <tr>\n",
              "      <th>4</th>\n",
              "      <td>@RudhoeEnglish This is an ISIS account pretend...</td>\n",
              "      <td>not_cyberbullying</td>\n",
              "      <td>6</td>\n",
              "      <td>isi account pretend kurdish account like islam...</td>\n",
              "      <td>[isi, account, pretend, kurdish, account, like...</td>\n",
              "    </tr>\n",
              "  </tbody>\n",
              "</table>\n",
              "</div>\n",
              "      <button class=\"colab-df-convert\" onclick=\"convertToInteractive('df-931494dc-1485-48bb-86c0-ac38775b12d3')\"\n",
              "              title=\"Convert this dataframe to an interactive table.\"\n",
              "              style=\"display:none;\">\n",
              "        \n",
              "  <svg xmlns=\"http://www.w3.org/2000/svg\" height=\"24px\"viewBox=\"0 0 24 24\"\n",
              "       width=\"24px\">\n",
              "    <path d=\"M0 0h24v24H0V0z\" fill=\"none\"/>\n",
              "    <path d=\"M18.56 5.44l.94 2.06.94-2.06 2.06-.94-2.06-.94-.94-2.06-.94 2.06-2.06.94zm-11 1L8.5 8.5l.94-2.06 2.06-.94-2.06-.94L8.5 2.5l-.94 2.06-2.06.94zm10 10l.94 2.06.94-2.06 2.06-.94-2.06-.94-.94-2.06-.94 2.06-2.06.94z\"/><path d=\"M17.41 7.96l-1.37-1.37c-.4-.4-.92-.59-1.43-.59-.52 0-1.04.2-1.43.59L10.3 9.45l-7.72 7.72c-.78.78-.78 2.05 0 2.83L4 21.41c.39.39.9.59 1.41.59.51 0 1.02-.2 1.41-.59l7.78-7.78 2.81-2.81c.8-.78.8-2.07 0-2.86zM5.41 20L4 18.59l7.72-7.72 1.47 1.35L5.41 20z\"/>\n",
              "  </svg>\n",
              "      </button>\n",
              "      \n",
              "  <style>\n",
              "    .colab-df-container {\n",
              "      display:flex;\n",
              "      flex-wrap:wrap;\n",
              "      gap: 12px;\n",
              "    }\n",
              "\n",
              "    .colab-df-convert {\n",
              "      background-color: #E8F0FE;\n",
              "      border: none;\n",
              "      border-radius: 50%;\n",
              "      cursor: pointer;\n",
              "      display: none;\n",
              "      fill: #1967D2;\n",
              "      height: 32px;\n",
              "      padding: 0 0 0 0;\n",
              "      width: 32px;\n",
              "    }\n",
              "\n",
              "    .colab-df-convert:hover {\n",
              "      background-color: #E2EBFA;\n",
              "      box-shadow: 0px 1px 2px rgba(60, 64, 67, 0.3), 0px 1px 3px 1px rgba(60, 64, 67, 0.15);\n",
              "      fill: #174EA6;\n",
              "    }\n",
              "\n",
              "    [theme=dark] .colab-df-convert {\n",
              "      background-color: #3B4455;\n",
              "      fill: #D2E3FC;\n",
              "    }\n",
              "\n",
              "    [theme=dark] .colab-df-convert:hover {\n",
              "      background-color: #434B5C;\n",
              "      box-shadow: 0px 1px 3px 1px rgba(0, 0, 0, 0.15);\n",
              "      filter: drop-shadow(0px 1px 2px rgba(0, 0, 0, 0.3));\n",
              "      fill: #FFFFFF;\n",
              "    }\n",
              "  </style>\n",
              "\n",
              "      <script>\n",
              "        const buttonEl =\n",
              "          document.querySelector('#df-931494dc-1485-48bb-86c0-ac38775b12d3 button.colab-df-convert');\n",
              "        buttonEl.style.display =\n",
              "          google.colab.kernel.accessAllowed ? 'block' : 'none';\n",
              "\n",
              "        async function convertToInteractive(key) {\n",
              "          const element = document.querySelector('#df-931494dc-1485-48bb-86c0-ac38775b12d3');\n",
              "          const dataTable =\n",
              "            await google.colab.kernel.invokeFunction('convertToInteractive',\n",
              "                                                     [key], {});\n",
              "          if (!dataTable) return;\n",
              "\n",
              "          const docLinkHtml = 'Like what you see? Visit the ' +\n",
              "            '<a target=\"_blank\" href=https://colab.research.google.com/notebooks/data_table.ipynb>data table notebook</a>'\n",
              "            + ' to learn more about interactive tables.';\n",
              "          element.innerHTML = '';\n",
              "          dataTable['output_type'] = 'display_data';\n",
              "          await google.colab.output.renderOutput(dataTable, element);\n",
              "          const docLink = document.createElement('div');\n",
              "          docLink.innerHTML = docLinkHtml;\n",
              "          element.appendChild(docLink);\n",
              "        }\n",
              "      </script>\n",
              "    </div>\n",
              "  </div>\n",
              "  "
            ]
          },
          "metadata": {},
          "execution_count": 36
        }
      ],
      "source": [
        "data['tweet_list'] = data['cleaned_text'].apply(word_tokenize)\n",
        "data.head()"
      ]
    },
    {
      "cell_type": "markdown",
      "id": "99cebeba",
      "metadata": {
        "id": "99cebeba"
      },
      "source": [
        "# Checking length of various tweet texts"
      ]
    },
    {
      "cell_type": "code",
      "execution_count": 37,
      "id": "8434c6e5",
      "metadata": {
        "id": "8434c6e5"
      },
      "outputs": [],
      "source": [
        "text_len = []\n",
        "for text in data.tweet_list:\n",
        "    tweet_len = len(text)\n",
        "    text_len.append(tweet_len)\n",
        "data['text_len'] = text_len"
      ]
    },
    {
      "cell_type": "code",
      "execution_count": 38,
      "id": "3d527c3b",
      "metadata": {
        "id": "3d527c3b",
        "outputId": "60f8bf63-6f35-4950-9e80-8cc52526f381",
        "colab": {
          "base_uri": "https://localhost:8080/",
          "height": 585
        }
      },
      "outputs": [
        {
          "output_type": "display_data",
          "data": {
            "text/plain": [
              "<Figure size 1500x800 with 1 Axes>"
            ],
            "image/png": "[encoded data removed]"
          },
          "metadata": {}
        }
      ],
      "source": [
        "plt.figure(figsize=(15,8))\n",
        "ax = sns.countplot(x='text_len', data=data, palette='mako')\n",
        "plt.title('Count of words in tweets', fontsize=20)\n",
        "plt.yticks([])\n",
        "ax.bar_label(ax.containers[0])\n",
        "plt.ylabel('count')\n",
        "plt.xlabel('')\n",
        "plt.show()"
      ]
    },
    {
      "cell_type": "markdown",
      "id": "bac7122a",
      "metadata": {
        "id": "bac7122a"
      },
      "source": [
        "# Removing text without words"
      ]
    },
    {
      "cell_type": "code",
      "execution_count": 39,
      "id": "337858c8",
      "metadata": {
        "id": "337858c8"
      },
      "outputs": [],
      "source": [
        "data = data[data['text_len']!=0]"
      ]
    },
    {
      "cell_type": "code",
      "execution_count": 40,
      "id": "5927d28b",
      "metadata": {
        "id": "5927d28b",
        "outputId": "97c6deea-0ad0-4a76-fc76-3bed33a806d5",
        "colab": {
          "base_uri": "https://localhost:8080/"
        }
      },
      "outputs": [
        {
          "output_type": "execute_result",
          "data": {
            "text/plain": [
              "(44650, 6)"
            ]
          },
          "metadata": {},
          "execution_count": 40
        }
      ],
      "source": [
        "data.shape"
      ]
    },
    {
      "cell_type": "markdown",
      "id": "5a770a2a",
      "metadata": {
        "id": "5a770a2a"
      },
      "source": [
        "# Function to create WordCloud"
      ]
    },
    {
      "cell_type": "code",
      "execution_count": 41,
      "id": "72ea90e8",
      "metadata": {
        "id": "72ea90e8"
      },
      "outputs": [],
      "source": [
        "def plot_wordcloud(cyberbullying_type):\n",
        "    string = \"\"\n",
        "    for i in data[data.sentiment == cyberbullying_type].cleaned_text.values:\n",
        "        string = string + \" \" + i.strip()\n",
        "\n",
        "    custom_mask = np.array(Image.open('statics/twitter.png'))\n",
        "    mask_colors = ImageColorGenerator(custom_mask)\n",
        "    wordcloud = WordCloud(background_color ='white',max_words=2000, max_font_size=256,\n",
        "               random_state=42, width=custom_mask.shape[1],height=custom_mask.shape[0],\n",
        "                mask = custom_mask,min_font_size = 10,color_func=mask_colors).generate(string)\n",
        " \n",
        "    # plot the WordCloud image                      \n",
        "    plt.figure(figsize = (8, 8), facecolor = None)\n",
        "    plt.imshow(wordcloud)\n",
        "    plt.axis(\"off\")\n",
        "    plt.tight_layout(pad = 0)\n",
        "    plt.title(cyberbullying_type)\n",
        "    plt.show()\n",
        "    del string"
      ]
    },
    {
      "cell_type": "markdown",
      "id": "98989bcf",
      "metadata": {
        "id": "98989bcf"
      },
      "source": [
        "# Splitting data based on sentiment for Data Exploration"
      ]
    },
    {
      "cell_type": "code",
      "execution_count": 42,
      "id": "8447913c",
      "metadata": {
        "id": "8447913c"
      },
      "outputs": [],
      "source": [
        "not_cyberbullying_type = data[data['sentiment']=='not_cyberbullying']\n",
        "gender_type = data[data['sentiment']=='gender']\n",
        "religion_type = data[data['sentiment']=='religion']\n",
        "other_cyberbullying_type = data[data['sentiment']=='other_cyberbullying']\n",
        "age_type = data[data['sentiment']=='age']\n",
        "ethnicity_type = data[data['sentiment']=='ethnicity']"
      ]
    },
    {
      "cell_type": "markdown",
      "id": "87328182",
      "metadata": {
        "id": "87328182"
      },
      "source": [
        "# Exploratory Data Analysis"
      ]
    },
    {
      "cell_type": "markdown",
      "id": "a6b9ded2",
      "metadata": {
        "id": "a6b9ded2"
      },
      "source": [
        "# Gender Based Cyberbullying"
      ]
    },
    {
      "cell_type": "code",
      "execution_count": 43,
      "id": "bf363699",
      "metadata": {
        "id": "bf363699",
        "outputId": "5f2a986f-30aa-4c18-f48c-e6a4d286d0af",
        "colab": {
          "base_uri": "https://localhost:8080/",
          "height": 677
        }
      },
      "outputs": [
        {
          "output_type": "execute_result",
          "data": {
            "text/plain": [
              "<pandas.io.formats.style.Styler at 0x7efd705fccd0>"
            ],
            "text/html": [
              "<style type=\"text/css\">\n",
              "#T_a9f69_row0_col1 {\n",
              "  background-color: #00441b;\n",
              "  color: #f1f1f1;\n",
              "}\n",
              "#T_a9f69_row1_col1 {\n",
              "  background-color: #1e8741;\n",
              "  color: #f1f1f1;\n",
              "}\n",
              "#T_a9f69_row2_col1 {\n",
              "  background-color: #2a924a;\n",
              "  color: #f1f1f1;\n",
              "}\n",
              "#T_a9f69_row3_col1 {\n",
              "  background-color: #d3eecd;\n",
              "  color: #000000;\n",
              "}\n",
              "#T_a9f69_row4_col1 {\n",
              "  background-color: #d9f0d3;\n",
              "  color: #000000;\n",
              "}\n",
              "#T_a9f69_row5_col1 {\n",
              "  background-color: #dbf1d6;\n",
              "  color: #000000;\n",
              "}\n",
              "#T_a9f69_row6_col1 {\n",
              "  background-color: #ddf2d8;\n",
              "  color: #000000;\n",
              "}\n",
              "#T_a9f69_row7_col1 {\n",
              "  background-color: #dff3da;\n",
              "  color: #000000;\n",
              "}\n",
              "#T_a9f69_row8_col1 {\n",
              "  background-color: #e1f3dc;\n",
              "  color: #000000;\n",
              "}\n",
              "#T_a9f69_row9_col1, #T_a9f69_row10_col1 {\n",
              "  background-color: #e7f6e2;\n",
              "  color: #000000;\n",
              "}\n",
              "#T_a9f69_row11_col1 {\n",
              "  background-color: #e8f6e3;\n",
              "  color: #000000;\n",
              "}\n",
              "#T_a9f69_row12_col1, #T_a9f69_row13_col1 {\n",
              "  background-color: #f1faee;\n",
              "  color: #000000;\n",
              "}\n",
              "#T_a9f69_row14_col1 {\n",
              "  background-color: #f2faef;\n",
              "  color: #000000;\n",
              "}\n",
              "#T_a9f69_row15_col1, #T_a9f69_row16_col1 {\n",
              "  background-color: #f2faf0;\n",
              "  color: #000000;\n",
              "}\n",
              "#T_a9f69_row17_col1 {\n",
              "  background-color: #f4fbf1;\n",
              "  color: #000000;\n",
              "}\n",
              "#T_a9f69_row18_col1 {\n",
              "  background-color: #f4fbf2;\n",
              "  color: #000000;\n",
              "}\n",
              "#T_a9f69_row19_col1 {\n",
              "  background-color: #f7fcf5;\n",
              "  color: #000000;\n",
              "}\n",
              "</style>\n",
              "<table id=\"T_a9f69\" class=\"dataframe\">\n",
              "  <thead>\n",
              "    <tr>\n",
              "      <th class=\"blank level0\" >&nbsp;</th>\n",
              "      <th id=\"T_a9f69_level0_col0\" class=\"col_heading level0 col0\" >Top Words</th>\n",
              "      <th id=\"T_a9f69_level0_col1\" class=\"col_heading level0 col1\" >Count</th>\n",
              "    </tr>\n",
              "  </thead>\n",
              "  <tbody>\n",
              "    <tr>\n",
              "      <th id=\"T_a9f69_level0_row0\" class=\"row_heading level0 row0\" >0</th>\n",
              "      <td id=\"T_a9f69_row0_col0\" class=\"data row0 col0\" >joke</td>\n",
              "      <td id=\"T_a9f69_row0_col1\" class=\"data row0 col1\" >5179</td>\n",
              "    </tr>\n",
              "    <tr>\n",
              "      <th id=\"T_a9f69_level0_row1\" class=\"row_heading level0 row1\" >1</th>\n",
              "      <td id=\"T_a9f69_row1_col0\" class=\"data row1 col0\" >rape</td>\n",
              "      <td id=\"T_a9f69_row1_col1\" class=\"data row1 col1\" >4070</td>\n",
              "    </tr>\n",
              "    <tr>\n",
              "      <th id=\"T_a9f69_level0_row2\" class=\"row_heading level0 row2\" >2</th>\n",
              "      <td id=\"T_a9f69_row2_col0\" class=\"data row2 col0\" >gay</td>\n",
              "      <td id=\"T_a9f69_row2_col1\" class=\"data row2 col1\" >3852</td>\n",
              "    </tr>\n",
              "    <tr>\n",
              "      <th id=\"T_a9f69_level0_row3\" class=\"row_heading level0 row3\" >3</th>\n",
              "      <td id=\"T_a9f69_row3_col0\" class=\"data row3 col0\" >call</td>\n",
              "      <td id=\"T_a9f69_row3_col1\" class=\"data row3 col1\" >1401</td>\n",
              "    </tr>\n",
              "    <tr>\n",
              "      <th id=\"T_a9f69_level0_row4\" class=\"row_heading level0 row4\" >4</th>\n",
              "      <td id=\"T_a9f69_row4_col0\" class=\"data row4 col0\" >make</td>\n",
              "      <td id=\"T_a9f69_row4_col1\" class=\"data row4 col1\" >1283</td>\n",
              "    </tr>\n",
              "    <tr>\n",
              "      <th id=\"T_a9f69_level0_row5\" class=\"row_heading level0 row5\" >5</th>\n",
              "      <td id=\"T_a9f69_row5_col0\" class=\"data row5 col0\" >rt</td>\n",
              "      <td id=\"T_a9f69_row5_col1\" class=\"data row5 col1\" >1221</td>\n",
              "    </tr>\n",
              "    <tr>\n",
              "      <th id=\"T_a9f69_level0_row6\" class=\"row_heading level0 row6\" >6</th>\n",
              "      <td id=\"T_a9f69_row6_col0\" class=\"data row6 col0\" >woman</td>\n",
              "      <td id=\"T_a9f69_row6_col1\" class=\"data row6 col1\" >1182</td>\n",
              "    </tr>\n",
              "    <tr>\n",
              "      <th id=\"T_a9f69_level0_row7\" class=\"row_heading level0 row7\" >7</th>\n",
              "      <td id=\"T_a9f69_row7_col0\" class=\"data row7 col0\" >bitch</td>\n",
              "      <td id=\"T_a9f69_row7_col1\" class=\"data row7 col1\" >1146</td>\n",
              "    </tr>\n",
              "    <tr>\n",
              "      <th id=\"T_a9f69_level0_row8\" class=\"row_heading level0 row8\" >8</th>\n",
              "      <td id=\"T_a9f69_row8_col0\" class=\"data row8 col0\" >femal</td>\n",
              "      <td id=\"T_a9f69_row8_col1\" class=\"data row8 col1\" >1108</td>\n",
              "    </tr>\n",
              "    <tr>\n",
              "      <th id=\"T_a9f69_level0_row9\" class=\"row_heading level0 row9\" >9</th>\n",
              "      <td id=\"T_a9f69_row9_col0\" class=\"data row9 col0\" >peopl</td>\n",
              "      <td id=\"T_a9f69_row9_col1\" class=\"data row9 col1\" >988</td>\n",
              "    </tr>\n",
              "    <tr>\n",
              "      <th id=\"T_a9f69_level0_row10\" class=\"row_heading level0 row10\" >10</th>\n",
              "      <td id=\"T_a9f69_row10_col0\" class=\"data row10 col0\" >like</td>\n",
              "      <td id=\"T_a9f69_row10_col1\" class=\"data row10 col1\" >978</td>\n",
              "    </tr>\n",
              "    <tr>\n",
              "      <th id=\"T_a9f69_level0_row11\" class=\"row_heading level0 row11\" >11</th>\n",
              "      <td id=\"T_a9f69_row11_col0\" class=\"data row11 col0\" >sexist</td>\n",
              "      <td id=\"T_a9f69_row11_col1\" class=\"data row11 col1\" >953</td>\n",
              "    </tr>\n",
              "    <tr>\n",
              "      <th id=\"T_a9f69_level0_row12\" class=\"row_heading level0 row12\" >12</th>\n",
              "      <td id=\"T_a9f69_row12_col0\" class=\"data row12 col0\" >funni</td>\n",
              "      <td id=\"T_a9f69_row12_col1\" class=\"data row12 col1\" >662</td>\n",
              "    </tr>\n",
              "    <tr>\n",
              "      <th id=\"T_a9f69_level0_row13\" class=\"row_heading level0 row13\" >13</th>\n",
              "      <td id=\"T_a9f69_row13_col0\" class=\"data row13 col0\" >mkr</td>\n",
              "      <td id=\"T_a9f69_row13_col1\" class=\"data row13 col1\" >659</td>\n",
              "    </tr>\n",
              "    <tr>\n",
              "      <th id=\"T_a9f69_level0_row14\" class=\"row_heading level0 row14\" >14</th>\n",
              "      <td id=\"T_a9f69_row14_col0\" class=\"data row14 col0\" >men</td>\n",
              "      <td id=\"T_a9f69_row14_col1\" class=\"data row14 col1\" >614</td>\n",
              "    </tr>\n",
              "    <tr>\n",
              "      <th id=\"T_a9f69_level0_row15\" class=\"row_heading level0 row15\" >15</th>\n",
              "      <td id=\"T_a9f69_row15_col0\" class=\"data row15 col0\" >say</td>\n",
              "      <td id=\"T_a9f69_row15_col1\" class=\"data row15 col1\" >592</td>\n",
              "    </tr>\n",
              "    <tr>\n",
              "      <th id=\"T_a9f69_level0_row16\" class=\"row_heading level0 row16\" >16</th>\n",
              "      <td id=\"T_a9f69_row16_col0\" class=\"data row16 col0\" >think</td>\n",
              "      <td id=\"T_a9f69_row16_col1\" class=\"data row16 col1\" >592</td>\n",
              "    </tr>\n",
              "    <tr>\n",
              "      <th id=\"T_a9f69_level0_row17\" class=\"row_heading level0 row17\" >17</th>\n",
              "      <td id=\"T_a9f69_row17_col0\" class=\"data row17 col0\" >get</td>\n",
              "      <td id=\"T_a9f69_row17_col1\" class=\"data row17 col1\" >555</td>\n",
              "    </tr>\n",
              "    <tr>\n",
              "      <th id=\"T_a9f69_level0_row18\" class=\"row_heading level0 row18\" >18</th>\n",
              "      <td id=\"T_a9f69_row18_col0\" class=\"data row18 col0\" >fuck</td>\n",
              "      <td id=\"T_a9f69_row18_col1\" class=\"data row18 col1\" >548</td>\n",
              "    </tr>\n",
              "    <tr>\n",
              "      <th id=\"T_a9f69_level0_row19\" class=\"row_heading level0 row19\" >19</th>\n",
              "      <td id=\"T_a9f69_row19_col0\" class=\"data row19 col0\" >use</td>\n",
              "      <td id=\"T_a9f69_row19_col1\" class=\"data row19 col1\" >441</td>\n",
              "    </tr>\n",
              "  </tbody>\n",
              "</table>\n"
            ]
          },
          "metadata": {},
          "execution_count": 43
        }
      ],
      "source": [
        "gender = Counter([item for sublist in gender_type['tweet_list'] for item in sublist])\n",
        "top20_gender = pd.DataFrame(gender.most_common(20))\n",
        "top20_gender.columns = ['Top Words','Count']\n",
        "top20_gender.style.background_gradient(cmap='Greens')"
      ]
    },
    {
      "cell_type": "code",
      "execution_count": 44,
      "id": "6863d867",
      "metadata": {
        "id": "6863d867",
        "outputId": "2d53596e-4160-4879-c583-6a7a89f3ecb0",
        "colab": {
          "base_uri": "https://localhost:8080/",
          "height": 593
        }
      },
      "outputs": [
        {
          "output_type": "execute_result",
          "data": {
            "text/plain": [
              "Text(0.5, 1.0, 'Top 20 words in Gender Cyberbullying')"
            ]
          },
          "metadata": {},
          "execution_count": 44
        },
        {
          "output_type": "display_data",
          "data": {
            "text/plain": [
              "<Figure size 1500x800 with 1 Axes>"
            ],
            "image/png": "[encoded data removed]"
          },
          "metadata": {}
        }
      ],
      "source": [
        "fig = plt.figure(figsize=(15,8))\n",
        "sns.barplot(data=top20_gender, y=\"Count\", x=\"Top Words\")\n",
        "plt.title(\"Top 20 words in Gender Cyberbullying\")"
      ]
    },
    {
      "cell_type": "markdown",
      "id": "c8bd58bd",
      "metadata": {
        "id": "c8bd58bd"
      },
      "source": [
        "# Religion Based Cyberbullying"
      ]
    },
    {
      "cell_type": "code",
      "execution_count": 46,
      "id": "7fb8c989",
      "metadata": {
        "id": "7fb8c989",
        "outputId": "726e51ad-09c2-4509-fbf9-66b7c0693a0f",
        "colab": {
          "base_uri": "https://localhost:8080/",
          "height": 677
        }
      },
      "outputs": [
        {
          "output_type": "execute_result",
          "data": {
            "text/plain": [
              "<pandas.io.formats.style.Styler at 0x7efd6627bee0>"
            ],
            "text/html": [
              "<style type=\"text/css\">\n",
              "#T_1e767_row0_col1 {\n",
              "  background-color: #00441b;\n",
              "  color: #f1f1f1;\n",
              "}\n",
              "#T_1e767_row1_col1 {\n",
              "  background-color: #46ae60;\n",
              "  color: #f1f1f1;\n",
              "}\n",
              "#T_1e767_row2_col1 {\n",
              "  background-color: #87cd86;\n",
              "  color: #000000;\n",
              "}\n",
              "#T_1e767_row3_col1 {\n",
              "  background-color: #a3da9d;\n",
              "  color: #000000;\n",
              "}\n",
              "#T_1e767_row4_col1 {\n",
              "  background-color: #b2e0ac;\n",
              "  color: #000000;\n",
              "}\n",
              "#T_1e767_row5_col1 {\n",
              "  background-color: #d8f0d2;\n",
              "  color: #000000;\n",
              "}\n",
              "#T_1e767_row6_col1 {\n",
              "  background-color: #ddf2d8;\n",
              "  color: #000000;\n",
              "}\n",
              "#T_1e767_row7_col1 {\n",
              "  background-color: #def2d9;\n",
              "  color: #000000;\n",
              "}\n",
              "#T_1e767_row8_col1, #T_1e767_row9_col1 {\n",
              "  background-color: #e0f3db;\n",
              "  color: #000000;\n",
              "}\n",
              "#T_1e767_row10_col1 {\n",
              "  background-color: #e4f5df;\n",
              "  color: #000000;\n",
              "}\n",
              "#T_1e767_row11_col1 {\n",
              "  background-color: #e7f6e3;\n",
              "  color: #000000;\n",
              "}\n",
              "#T_1e767_row12_col1 {\n",
              "  background-color: #e8f6e4;\n",
              "  color: #000000;\n",
              "}\n",
              "#T_1e767_row13_col1 {\n",
              "  background-color: #f2faef;\n",
              "  color: #000000;\n",
              "}\n",
              "#T_1e767_row14_col1, #T_1e767_row15_col1 {\n",
              "  background-color: #f4fbf1;\n",
              "  color: #000000;\n",
              "}\n",
              "#T_1e767_row16_col1 {\n",
              "  background-color: #f4fbf2;\n",
              "  color: #000000;\n",
              "}\n",
              "#T_1e767_row17_col1, #T_1e767_row18_col1 {\n",
              "  background-color: #f6fcf4;\n",
              "  color: #000000;\n",
              "}\n",
              "#T_1e767_row19_col1 {\n",
              "  background-color: #f7fcf5;\n",
              "  color: #000000;\n",
              "}\n",
              "</style>\n",
              "<table id=\"T_1e767\" class=\"dataframe\">\n",
              "  <thead>\n",
              "    <tr>\n",
              "      <th class=\"blank level0\" >&nbsp;</th>\n",
              "      <th id=\"T_1e767_level0_col0\" class=\"col_heading level0 col0\" >Top Words</th>\n",
              "      <th id=\"T_1e767_level0_col1\" class=\"col_heading level0 col1\" >Count</th>\n",
              "    </tr>\n",
              "  </thead>\n",
              "  <tbody>\n",
              "    <tr>\n",
              "      <th id=\"T_1e767_level0_row0\" class=\"row_heading level0 row0\" >0</th>\n",
              "      <td id=\"T_1e767_row0_col0\" class=\"data row0 col0\" >muslim</td>\n",
              "      <td id=\"T_1e767_row0_col1\" class=\"data row0 col1\" >4618</td>\n",
              "    </tr>\n",
              "    <tr>\n",
              "      <th id=\"T_1e767_level0_row1\" class=\"row_heading level0 row1\" >1</th>\n",
              "      <td id=\"T_1e767_row1_col0\" class=\"data row1 col0\" >idiot</td>\n",
              "      <td id=\"T_1e767_row1_col1\" class=\"data row1 col1\" >3075</td>\n",
              "    </tr>\n",
              "    <tr>\n",
              "      <th id=\"T_1e767_level0_row2\" class=\"row_heading level0 row2\" >2</th>\n",
              "      <td id=\"T_1e767_row2_col0\" class=\"data row2 col0\" >islam</td>\n",
              "      <td id=\"T_1e767_row2_col1\" class=\"data row2 col1\" >2440</td>\n",
              "    </tr>\n",
              "    <tr>\n",
              "      <th id=\"T_1e767_level0_row3\" class=\"row_heading level0 row3\" >3</th>\n",
              "      <td id=\"T_1e767_row3_col0\" class=\"data row3 col0\" >christian</td>\n",
              "      <td id=\"T_1e767_row3_col1\" class=\"data row3 col1\" >2132</td>\n",
              "    </tr>\n",
              "    <tr>\n",
              "      <th id=\"T_1e767_level0_row4\" class=\"row_heading level0 row4\" >4</th>\n",
              "      <td id=\"T_1e767_row4_col0\" class=\"data row4 col0\" >u</td>\n",
              "      <td id=\"T_1e767_row4_col1\" class=\"data row4 col1\" >1922</td>\n",
              "    </tr>\n",
              "    <tr>\n",
              "      <th id=\"T_1e767_level0_row5\" class=\"row_heading level0 row5\" >5</th>\n",
              "      <td id=\"T_1e767_row5_col0\" class=\"data row5 col0\" >terrorist</td>\n",
              "      <td id=\"T_1e767_row5_col1\" class=\"data row5 col1\" >1378</td>\n",
              "    </tr>\n",
              "    <tr>\n",
              "      <th id=\"T_1e767_level0_row6\" class=\"row_heading level0 row6\" >6</th>\n",
              "      <td id=\"T_1e767_row6_col0\" class=\"data row6 col0\" >right</td>\n",
              "      <td id=\"T_1e767_row6_col1\" class=\"data row6 col1\" >1289</td>\n",
              "    </tr>\n",
              "    <tr>\n",
              "      <th id=\"T_1e767_level0_row7\" class=\"row_heading level0 row7\" >7</th>\n",
              "      <td id=\"T_1e767_row7_col0\" class=\"data row7 col0\" >like</td>\n",
              "      <td id=\"T_1e767_row7_col1\" class=\"data row7 col1\" >1276</td>\n",
              "    </tr>\n",
              "    <tr>\n",
              "      <th id=\"T_1e767_level0_row8\" class=\"row_heading level0 row8\" >8</th>\n",
              "      <td id=\"T_1e767_row8_col0\" class=\"data row8 col0\" >support</td>\n",
              "      <td id=\"T_1e767_row8_col1\" class=\"data row8 col1\" >1251</td>\n",
              "    </tr>\n",
              "    <tr>\n",
              "      <th id=\"T_1e767_level0_row9\" class=\"row_heading level0 row9\" >9</th>\n",
              "      <td id=\"T_1e767_row9_col0\" class=\"data row9 col0\" >woman</td>\n",
              "      <td id=\"T_1e767_row9_col1\" class=\"data row9 col1\" >1247</td>\n",
              "    </tr>\n",
              "    <tr>\n",
              "      <th id=\"T_1e767_level0_row10\" class=\"row_heading level0 row10\" >10</th>\n",
              "      <td id=\"T_1e767_row10_col0\" class=\"data row10 col0\" >terror</td>\n",
              "      <td id=\"T_1e767_row10_col1\" class=\"data row10 col1\" >1182</td>\n",
              "    </tr>\n",
              "    <tr>\n",
              "      <th id=\"T_1e767_level0_row11\" class=\"row_heading level0 row11\" >11</th>\n",
              "      <td id=\"T_1e767_row11_col0\" class=\"data row11 col0\" >radic</td>\n",
              "      <td id=\"T_1e767_row11_col1\" class=\"data row11 col1\" >1110</td>\n",
              "    </tr>\n",
              "    <tr>\n",
              "      <th id=\"T_1e767_level0_row12\" class=\"row_heading level0 row12\" >12</th>\n",
              "      <td id=\"T_1e767_row12_col0\" class=\"data row12 col0\" >peopl</td>\n",
              "      <td id=\"T_1e767_row12_col1\" class=\"data row12 col1\" >1076</td>\n",
              "    </tr>\n",
              "    <tr>\n",
              "      <th id=\"T_1e767_level0_row13\" class=\"row_heading level0 row13\" >13</th>\n",
              "      <td id=\"T_1e767_row13_col0\" class=\"data row13 col0\" >say</td>\n",
              "      <td id=\"T_1e767_row13_col1\" class=\"data row13 col1\" >812</td>\n",
              "    </tr>\n",
              "    <tr>\n",
              "      <th id=\"T_1e767_level0_row14\" class=\"row_heading level0 row14\" >14</th>\n",
              "      <td id=\"T_1e767_row14_col0\" class=\"data row14 col0\" >amp</td>\n",
              "      <td id=\"T_1e767_row14_col1\" class=\"data row14 col1\" >769</td>\n",
              "    </tr>\n",
              "    <tr>\n",
              "      <th id=\"T_1e767_level0_row15\" class=\"row_heading level0 row15\" >15</th>\n",
              "      <td id=\"T_1e767_row15_col0\" class=\"data row15 col0\" >know</td>\n",
              "      <td id=\"T_1e767_row15_col1\" class=\"data row15 col1\" >759</td>\n",
              "    </tr>\n",
              "    <tr>\n",
              "      <th id=\"T_1e767_level0_row16\" class=\"row_heading level0 row16\" >16</th>\n",
              "      <td id=\"T_1e767_row16_col0\" class=\"data row16 col0\" >human</td>\n",
              "      <td id=\"T_1e767_row16_col1\" class=\"data row16 col1\" >744</td>\n",
              "    </tr>\n",
              "    <tr>\n",
              "      <th id=\"T_1e767_level0_row17\" class=\"row_heading level0 row17\" >17</th>\n",
              "      <td id=\"T_1e767_row17_col0\" class=\"data row17 col0\" >kill</td>\n",
              "      <td id=\"T_1e767_row17_col1\" class=\"data row17 col1\" >708</td>\n",
              "    </tr>\n",
              "    <tr>\n",
              "      <th id=\"T_1e767_level0_row18\" class=\"row_heading level0 row18\" >18</th>\n",
              "      <td id=\"T_1e767_row18_col0\" class=\"data row18 col0\" >hindu</td>\n",
              "      <td id=\"T_1e767_row18_col1\" class=\"data row18 col1\" >688</td>\n",
              "    </tr>\n",
              "    <tr>\n",
              "      <th id=\"T_1e767_level0_row19\" class=\"row_heading level0 row19\" >19</th>\n",
              "      <td id=\"T_1e767_row19_col0\" class=\"data row19 col0\" >one</td>\n",
              "      <td id=\"T_1e767_row19_col1\" class=\"data row19 col1\" >666</td>\n",
              "    </tr>\n",
              "  </tbody>\n",
              "</table>\n"
            ]
          },
          "metadata": {},
          "execution_count": 46
        }
      ],
      "source": [
        "religion = Counter([item for sublist in religion_type['tweet_list'] for item in sublist])\n",
        "top20_religion = pd.DataFrame(religion.most_common(20))\n",
        "top20_religion.columns = ['Top Words','Count']\n",
        "top20_religion.style.background_gradient(cmap='Greens')"
      ]
    },
    {
      "cell_type": "code",
      "execution_count": 47,
      "id": "ba7da3f2",
      "metadata": {
        "id": "ba7da3f2",
        "outputId": "a4abec3e-3f25-4ce0-fa60-6ba301721cc9",
        "colab": {
          "base_uri": "https://localhost:8080/",
          "height": 593
        }
      },
      "outputs": [
        {
          "output_type": "execute_result",
          "data": {
            "text/plain": [
              "Text(0.5, 1.0, 'Top 20 words in Religion Cyberbullying')"
            ]
          },
          "metadata": {},
          "execution_count": 47
        },
        {
          "output_type": "display_data",
          "data": {
            "text/plain": [
              "<Figure size 1500x800 with 1 Axes>"
            ],
            "image/png": "[encoded data removed]"
          },
          "metadata": {}
        }
      ],
      "source": [
        "fig = plt.figure(figsize=(15,8))\n",
        "sns.barplot(data=top20_religion, y=\"Count\", x=\"Top Words\")\n",
        "plt.title(\"Top 20 words in Religion Cyberbullying\")"
      ]
    },
    {
      "cell_type": "markdown",
      "id": "3f123cb6",
      "metadata": {
        "id": "3f123cb6"
      },
      "source": [
        "# Age based Cyberbullying"
      ]
    },
    {
      "cell_type": "code",
      "execution_count": 48,
      "id": "15938113",
      "metadata": {
        "id": "15938113",
        "outputId": "9b1314f1-9923-4f8f-a7a4-91bf31dcbf16",
        "colab": {
          "base_uri": "https://localhost:8080/",
          "height": 677
        }
      },
      "outputs": [
        {
          "output_type": "execute_result",
          "data": {
            "text/plain": [
              "<pandas.io.formats.style.Styler at 0x7efd6ec616a0>"
            ],
            "text/html": [
              "<style type=\"text/css\">\n",
              "#T_bf772_row0_col1 {\n",
              "  background-color: #00441b;\n",
              "  color: #f1f1f1;\n",
              "}\n",
              "#T_bf772_row1_col1 {\n",
              "  background-color: #005622;\n",
              "  color: #f1f1f1;\n",
              "}\n",
              "#T_bf772_row2_col1 {\n",
              "  background-color: #6bc072;\n",
              "  color: #000000;\n",
              "}\n",
              "#T_bf772_row3_col1 {\n",
              "  background-color: #78c679;\n",
              "  color: #000000;\n",
              "}\n",
              "#T_bf772_row4_col1 {\n",
              "  background-color: #d6efd0;\n",
              "  color: #000000;\n",
              "}\n",
              "#T_bf772_row5_col1, #T_bf772_row6_col1 {\n",
              "  background-color: #edf8ea;\n",
              "  color: #000000;\n",
              "}\n",
              "#T_bf772_row7_col1 {\n",
              "  background-color: #f0f9ec;\n",
              "  color: #000000;\n",
              "}\n",
              "#T_bf772_row8_col1, #T_bf772_row9_col1 {\n",
              "  background-color: #f1faee;\n",
              "  color: #000000;\n",
              "}\n",
              "#T_bf772_row10_col1 {\n",
              "  background-color: #f2faf0;\n",
              "  color: #000000;\n",
              "}\n",
              "#T_bf772_row11_col1 {\n",
              "  background-color: #f3faf0;\n",
              "  color: #000000;\n",
              "}\n",
              "#T_bf772_row12_col1, #T_bf772_row13_col1 {\n",
              "  background-color: #f5fbf2;\n",
              "  color: #000000;\n",
              "}\n",
              "#T_bf772_row14_col1 {\n",
              "  background-color: #f5fbf3;\n",
              "  color: #000000;\n",
              "}\n",
              "#T_bf772_row15_col1, #T_bf772_row16_col1, #T_bf772_row17_col1, #T_bf772_row18_col1 {\n",
              "  background-color: #f6fcf4;\n",
              "  color: #000000;\n",
              "}\n",
              "#T_bf772_row19_col1 {\n",
              "  background-color: #f7fcf5;\n",
              "  color: #000000;\n",
              "}\n",
              "</style>\n",
              "<table id=\"T_bf772\" class=\"dataframe\">\n",
              "  <thead>\n",
              "    <tr>\n",
              "      <th class=\"blank level0\" >&nbsp;</th>\n",
              "      <th id=\"T_bf772_level0_col0\" class=\"col_heading level0 col0\" >Top Words</th>\n",
              "      <th id=\"T_bf772_level0_col1\" class=\"col_heading level0 col1\" >Count</th>\n",
              "    </tr>\n",
              "  </thead>\n",
              "  <tbody>\n",
              "    <tr>\n",
              "      <th id=\"T_bf772_level0_row0\" class=\"row_heading level0 row0\" >0</th>\n",
              "      <td id=\"T_bf772_row0_col0\" class=\"data row0 col0\" >bulli</td>\n",
              "      <td id=\"T_bf772_row0_col1\" class=\"data row0 col1\" >8899</td>\n",
              "    </tr>\n",
              "    <tr>\n",
              "      <th id=\"T_bf772_level0_row1\" class=\"row_heading level0 row1\" >1</th>\n",
              "      <td id=\"T_bf772_row1_col0\" class=\"data row1 col0\" >school</td>\n",
              "      <td id=\"T_bf772_row1_col1\" class=\"data row1 col1\" >8426</td>\n",
              "    </tr>\n",
              "    <tr>\n",
              "      <th id=\"T_bf772_level0_row2\" class=\"row_heading level0 row2\" >2</th>\n",
              "      <td id=\"T_bf772_row2_col0\" class=\"data row2 col0\" >high</td>\n",
              "      <td id=\"T_bf772_row2_col1\" class=\"data row2 col1\" >4861</td>\n",
              "    </tr>\n",
              "    <tr>\n",
              "      <th id=\"T_bf772_level0_row3\" class=\"row_heading level0 row3\" >3</th>\n",
              "      <td id=\"T_bf772_row3_col0\" class=\"data row3 col0\" >girl</td>\n",
              "      <td id=\"T_bf772_row3_col1\" class=\"data row3 col1\" >4616</td>\n",
              "    </tr>\n",
              "    <tr>\n",
              "      <th id=\"T_bf772_level0_row4\" class=\"row_heading level0 row4\" >4</th>\n",
              "      <td id=\"T_bf772_row4_col0\" class=\"data row4 col0\" >like</td>\n",
              "      <td id=\"T_bf772_row4_col1\" class=\"data row4 col1\" >2076</td>\n",
              "    </tr>\n",
              "    <tr>\n",
              "      <th id=\"T_bf772_level0_row5\" class=\"row_heading level0 row5\" >5</th>\n",
              "      <td id=\"T_bf772_row5_col0\" class=\"data row5 col0\" >get</td>\n",
              "      <td id=\"T_bf772_row5_col1\" class=\"data row5 col1\" >1051</td>\n",
              "    </tr>\n",
              "    <tr>\n",
              "      <th id=\"T_bf772_level0_row6\" class=\"row_heading level0 row6\" >6</th>\n",
              "      <td id=\"T_bf772_row6_col0\" class=\"data row6 col0\" >one</td>\n",
              "      <td id=\"T_bf772_row6_col1\" class=\"data row6 col1\" >1044</td>\n",
              "    </tr>\n",
              "    <tr>\n",
              "      <th id=\"T_bf772_level0_row7\" class=\"row_heading level0 row7\" >7</th>\n",
              "      <td id=\"T_bf772_row7_col0\" class=\"data row7 col0\" >peopl</td>\n",
              "      <td id=\"T_bf772_row7_col1\" class=\"data row7 col1\" >934</td>\n",
              "    </tr>\n",
              "    <tr>\n",
              "      <th id=\"T_bf772_level0_row8\" class=\"row_heading level0 row8\" >8</th>\n",
              "      <td id=\"T_bf772_row8_col0\" class=\"data row8 col0\" >got</td>\n",
              "      <td id=\"T_bf772_row8_col1\" class=\"data row8 col1\" >842</td>\n",
              "    </tr>\n",
              "    <tr>\n",
              "      <th id=\"T_bf772_level0_row9\" class=\"row_heading level0 row9\" >9</th>\n",
              "      <td id=\"T_bf772_row9_col0\" class=\"data row9 col0\" >kid</td>\n",
              "      <td id=\"T_bf772_row9_col1\" class=\"data row9 col1\" >809</td>\n",
              "    </tr>\n",
              "    <tr>\n",
              "      <th id=\"T_bf772_level0_row10\" class=\"row_heading level0 row10\" >10</th>\n",
              "      <td id=\"T_bf772_row10_col0\" class=\"data row10 col0\" >would</td>\n",
              "      <td id=\"T_bf772_row10_col1\" class=\"data row10 col1\" >762</td>\n",
              "    </tr>\n",
              "    <tr>\n",
              "      <th id=\"T_bf772_level0_row11\" class=\"row_heading level0 row11\" >11</th>\n",
              "      <td id=\"T_bf772_row11_col0\" class=\"data row11 col0\" >middl</td>\n",
              "      <td id=\"T_bf772_row11_col1\" class=\"data row11 col1\" >714</td>\n",
              "    </tr>\n",
              "    <tr>\n",
              "      <th id=\"T_bf772_level0_row12\" class=\"row_heading level0 row12\" >12</th>\n",
              "      <td id=\"T_bf772_row12_col0\" class=\"data row12 col0\" >friend</td>\n",
              "      <td id=\"T_bf772_row12_col1\" class=\"data row12 col1\" >632</td>\n",
              "    </tr>\n",
              "    <tr>\n",
              "      <th id=\"T_bf772_level0_row13\" class=\"row_heading level0 row13\" >13</th>\n",
              "      <td id=\"T_bf772_row13_col0\" class=\"data row13 col0\" >im</td>\n",
              "      <td id=\"T_bf772_row13_col1\" class=\"data row13 col1\" >625</td>\n",
              "    </tr>\n",
              "    <tr>\n",
              "      <th id=\"T_bf772_level0_row14\" class=\"row_heading level0 row14\" >14</th>\n",
              "      <td id=\"T_bf772_row14_col0\" class=\"data row14 col0\" >year</td>\n",
              "      <td id=\"T_bf772_row14_col1\" class=\"data row14 col1\" >586</td>\n",
              "    </tr>\n",
              "    <tr>\n",
              "      <th id=\"T_bf772_level0_row15\" class=\"row_heading level0 row15\" >15</th>\n",
              "      <td id=\"T_bf772_row15_col0\" class=\"data row15 col0\" >go</td>\n",
              "      <td id=\"T_bf772_row15_col1\" class=\"data row15 col1\" >555</td>\n",
              "    </tr>\n",
              "    <tr>\n",
              "      <th id=\"T_bf772_level0_row16\" class=\"row_heading level0 row16\" >16</th>\n",
              "      <td id=\"T_bf772_row16_col0\" class=\"data row16 col0\" >look</td>\n",
              "      <td id=\"T_bf772_row16_col1\" class=\"data row16 col1\" >545</td>\n",
              "    </tr>\n",
              "    <tr>\n",
              "      <th id=\"T_bf772_level0_row17\" class=\"row_heading level0 row17\" >17</th>\n",
              "      <td id=\"T_bf772_row17_col0\" class=\"data row17 col0\" >amp</td>\n",
              "      <td id=\"T_bf772_row17_col1\" class=\"data row17 col1\" >527</td>\n",
              "    </tr>\n",
              "    <tr>\n",
              "      <th id=\"T_bf772_level0_row18\" class=\"row_heading level0 row18\" >18</th>\n",
              "      <td id=\"T_bf772_row18_col0\" class=\"data row18 col0\" >know</td>\n",
              "      <td id=\"T_bf772_row18_col1\" class=\"data row18 col1\" >511</td>\n",
              "    </tr>\n",
              "    <tr>\n",
              "      <th id=\"T_bf772_level0_row19\" class=\"row_heading level0 row19\" >19</th>\n",
              "      <td id=\"T_bf772_row19_col0\" class=\"data row19 col0\" >u</td>\n",
              "      <td id=\"T_bf772_row19_col1\" class=\"data row19 col1\" >477</td>\n",
              "    </tr>\n",
              "  </tbody>\n",
              "</table>\n"
            ]
          },
          "metadata": {},
          "execution_count": 48
        }
      ],
      "source": [
        "age = Counter([item for sublist in age_type['tweet_list'] for item in sublist])\n",
        "top20_age = pd.DataFrame(age.most_common(20))\n",
        "top20_age.columns = ['Top Words','Count']\n",
        "top20_age.style.background_gradient(cmap='Greens')"
      ]
    },
    {
      "cell_type": "code",
      "execution_count": 49,
      "id": "9e4ef0b5",
      "metadata": {
        "id": "9e4ef0b5",
        "outputId": "de309163-6349-4305-80a8-7996119e3e46",
        "colab": {
          "base_uri": "https://localhost:8080/",
          "height": 593
        }
      },
      "outputs": [
        {
          "output_type": "execute_result",
          "data": {
            "text/plain": [
              "Text(0.5, 1.0, 'Top 20 words in Age Cyberbullying')"
            ]
          },
          "metadata": {},
          "execution_count": 49
        },
        {
          "output_type": "display_data",
          "data": {
            "text/plain": [
              "<Figure size 1500x800 with 1 Axes>"
            ],
            "image/png": "[encoded data removed]"
          },
          "metadata": {}
        }
      ],
      "source": [
        "fig = plt.figure(figsize=(15,8))\n",
        "sns.barplot(data=top20_age, y=\"Count\", x=\"Top Words\")\n",
        "plt.title(\"Top 20 words in Age Cyberbullying\")"
      ]
    },
    {
      "cell_type": "markdown",
      "id": "e6b41e24",
      "metadata": {
        "id": "e6b41e24"
      },
      "source": [
        "# Ethnicity based Cyberbullying"
      ]
    },
    {
      "cell_type": "code",
      "execution_count": 50,
      "id": "bd56bdab",
      "metadata": {
        "id": "bd56bdab",
        "outputId": "62dbe3c2-34d7-43df-9104-45212f96a808",
        "colab": {
          "base_uri": "https://localhost:8080/",
          "height": 677
        }
      },
      "outputs": [
        {
          "output_type": "execute_result",
          "data": {
            "text/plain": [
              "<pandas.io.formats.style.Styler at 0x7efd65fd9be0>"
            ],
            "text/html": [
              "<style type=\"text/css\">\n",
              "#T_66ea5_row0_col1 {\n",
              "  background-color: #00441b;\n",
              "  color: #f1f1f1;\n",
              "}\n",
              "#T_66ea5_row1_col1 {\n",
              "  background-color: #005f26;\n",
              "  color: #f1f1f1;\n",
              "}\n",
              "#T_66ea5_row2_col1 {\n",
              "  background-color: #0c7735;\n",
              "  color: #f1f1f1;\n",
              "}\n",
              "#T_66ea5_row3_col1 {\n",
              "  background-color: #b8e3b2;\n",
              "  color: #000000;\n",
              "}\n",
              "#T_66ea5_row4_col1 {\n",
              "  background-color: #bee5b8;\n",
              "  color: #000000;\n",
              "}\n",
              "#T_66ea5_row5_col1 {\n",
              "  background-color: #c1e6ba;\n",
              "  color: #000000;\n",
              "}\n",
              "#T_66ea5_row6_col1 {\n",
              "  background-color: #dbf1d6;\n",
              "  color: #000000;\n",
              "}\n",
              "#T_66ea5_row7_col1 {\n",
              "  background-color: #e3f4de;\n",
              "  color: #000000;\n",
              "}\n",
              "#T_66ea5_row8_col1 {\n",
              "  background-color: #e9f7e5;\n",
              "  color: #000000;\n",
              "}\n",
              "#T_66ea5_row9_col1 {\n",
              "  background-color: #eaf7e6;\n",
              "  color: #000000;\n",
              "}\n",
              "#T_66ea5_row10_col1 {\n",
              "  background-color: #ecf8e8;\n",
              "  color: #000000;\n",
              "}\n",
              "#T_66ea5_row11_col1 {\n",
              "  background-color: #edf8e9;\n",
              "  color: #000000;\n",
              "}\n",
              "#T_66ea5_row12_col1 {\n",
              "  background-color: #edf8ea;\n",
              "  color: #000000;\n",
              "}\n",
              "#T_66ea5_row13_col1 {\n",
              "  background-color: #eff9eb;\n",
              "  color: #000000;\n",
              "}\n",
              "#T_66ea5_row14_col1 {\n",
              "  background-color: #eff9ec;\n",
              "  color: #000000;\n",
              "}\n",
              "#T_66ea5_row15_col1 {\n",
              "  background-color: #f4fbf1;\n",
              "  color: #000000;\n",
              "}\n",
              "#T_66ea5_row16_col1, #T_66ea5_row17_col1 {\n",
              "  background-color: #f6fcf4;\n",
              "  color: #000000;\n",
              "}\n",
              "#T_66ea5_row18_col1, #T_66ea5_row19_col1 {\n",
              "  background-color: #f7fcf5;\n",
              "  color: #000000;\n",
              "}\n",
              "</style>\n",
              "<table id=\"T_66ea5\" class=\"dataframe\">\n",
              "  <thead>\n",
              "    <tr>\n",
              "      <th class=\"blank level0\" >&nbsp;</th>\n",
              "      <th id=\"T_66ea5_level0_col0\" class=\"col_heading level0 col0\" >Top Words</th>\n",
              "      <th id=\"T_66ea5_level0_col1\" class=\"col_heading level0 col1\" >Count</th>\n",
              "    </tr>\n",
              "  </thead>\n",
              "  <tbody>\n",
              "    <tr>\n",
              "      <th id=\"T_66ea5_level0_row0\" class=\"row_heading level0 row0\" >0</th>\n",
              "      <td id=\"T_66ea5_row0_col0\" class=\"data row0 col0\" >fuck</td>\n",
              "      <td id=\"T_66ea5_row0_col1\" class=\"data row0 col1\" >5892</td>\n",
              "    </tr>\n",
              "    <tr>\n",
              "      <th id=\"T_66ea5_level0_row1\" class=\"row_heading level0 row1\" >1</th>\n",
              "      <td id=\"T_66ea5_row1_col0\" class=\"data row1 col0\" >nigger</td>\n",
              "      <td id=\"T_66ea5_row1_col1\" class=\"data row1 col1\" >5456</td>\n",
              "    </tr>\n",
              "    <tr>\n",
              "      <th id=\"T_66ea5_level0_row2\" class=\"row_heading level0 row2\" >2</th>\n",
              "      <td id=\"T_66ea5_row2_col0\" class=\"data row2 col0\" >dumb</td>\n",
              "      <td id=\"T_66ea5_row2_col1\" class=\"data row2 col1\" >5003</td>\n",
              "    </tr>\n",
              "    <tr>\n",
              "      <th id=\"T_66ea5_level0_row3\" class=\"row_heading level0 row3\" >3</th>\n",
              "      <td id=\"T_66ea5_row3_col0\" class=\"data row3 col0\" >as</td>\n",
              "      <td id=\"T_66ea5_row3_col1\" class=\"data row3 col1\" >2241</td>\n",
              "    </tr>\n",
              "    <tr>\n",
              "      <th id=\"T_66ea5_level0_row4\" class=\"row_heading level0 row4\" >4</th>\n",
              "      <td id=\"T_66ea5_row4_col0\" class=\"data row4 col0\" >black</td>\n",
              "      <td id=\"T_66ea5_row4_col1\" class=\"data row4 col1\" >2134</td>\n",
              "    </tr>\n",
              "    <tr>\n",
              "      <th id=\"T_66ea5_level0_row5\" class=\"row_heading level0 row5\" >5</th>\n",
              "      <td id=\"T_66ea5_row5_col0\" class=\"data row5 col0\" >u</td>\n",
              "      <td id=\"T_66ea5_row5_col1\" class=\"data row5 col1\" >2107</td>\n",
              "    </tr>\n",
              "    <tr>\n",
              "      <th id=\"T_66ea5_level0_row6\" class=\"row_heading level0 row6\" >6</th>\n",
              "      <td id=\"T_66ea5_row6_col0\" class=\"data row6 col0\" >white</td>\n",
              "      <td id=\"T_66ea5_row6_col1\" class=\"data row6 col1\" >1557</td>\n",
              "    </tr>\n",
              "    <tr>\n",
              "      <th id=\"T_66ea5_level0_row7\" class=\"row_heading level0 row7\" >7</th>\n",
              "      <td id=\"T_66ea5_row7_col0\" class=\"data row7 col0\" >call</td>\n",
              "      <td id=\"T_66ea5_row7_col1\" class=\"data row7 col1\" >1381</td>\n",
              "    </tr>\n",
              "    <tr>\n",
              "      <th id=\"T_66ea5_level0_row8\" class=\"row_heading level0 row8\" >8</th>\n",
              "      <td id=\"T_66ea5_row8_col0\" class=\"data row8 col0\" >peopl</td>\n",
              "      <td id=\"T_66ea5_row8_col1\" class=\"data row8 col1\" >1182</td>\n",
              "    </tr>\n",
              "    <tr>\n",
              "      <th id=\"T_66ea5_level0_row9\" class=\"row_heading level0 row9\" >9</th>\n",
              "      <td id=\"T_66ea5_row9_col0\" class=\"data row9 col0\" >rt</td>\n",
              "      <td id=\"T_66ea5_row9_col1\" class=\"data row9 col1\" >1166</td>\n",
              "    </tr>\n",
              "    <tr>\n",
              "      <th id=\"T_66ea5_level0_row10\" class=\"row_heading level0 row10\" >10</th>\n",
              "      <td id=\"T_66ea5_row10_col0\" class=\"data row10 col0\" >obama</td>\n",
              "      <td id=\"T_66ea5_row10_col1\" class=\"data row10 col1\" >1112</td>\n",
              "    </tr>\n",
              "    <tr>\n",
              "      <th id=\"T_66ea5_level0_row11\" class=\"row_heading level0 row11\" >11</th>\n",
              "      <td id=\"T_66ea5_row11_col0\" class=\"data row11 col0\" >one</td>\n",
              "      <td id=\"T_66ea5_row11_col1\" class=\"data row11 col1\" >1058</td>\n",
              "    </tr>\n",
              "    <tr>\n",
              "      <th id=\"T_66ea5_level0_row12\" class=\"row_heading level0 row12\" >12</th>\n",
              "      <td id=\"T_66ea5_row12_col0\" class=\"data row12 col0\" >like</td>\n",
              "      <td id=\"T_66ea5_row12_col1\" class=\"data row12 col1\" >1035</td>\n",
              "    </tr>\n",
              "    <tr>\n",
              "      <th id=\"T_66ea5_level0_row13\" class=\"row_heading level0 row13\" >13</th>\n",
              "      <td id=\"T_66ea5_row13_col0\" class=\"data row13 col0\" >bitch</td>\n",
              "      <td id=\"T_66ea5_row13_col1\" class=\"data row13 col1\" >999</td>\n",
              "    </tr>\n",
              "    <tr>\n",
              "      <th id=\"T_66ea5_level0_row14\" class=\"row_heading level0 row14\" >14</th>\n",
              "      <td id=\"T_66ea5_row14_col0\" class=\"data row14 col0\" >ur</td>\n",
              "      <td id=\"T_66ea5_row14_col1\" class=\"data row14 col1\" >987</td>\n",
              "    </tr>\n",
              "    <tr>\n",
              "      <th id=\"T_66ea5_level0_row15\" class=\"row_heading level0 row15\" >15</th>\n",
              "      <td id=\"T_66ea5_row15_col0\" class=\"data row15 col0\" >say</td>\n",
              "      <td id=\"T_66ea5_row15_col1\" class=\"data row15 col1\" >817</td>\n",
              "    </tr>\n",
              "    <tr>\n",
              "      <th id=\"T_66ea5_level0_row16\" class=\"row_heading level0 row16\" >16</th>\n",
              "      <td id=\"T_66ea5_row16_col0\" class=\"data row16 col0\" >first</td>\n",
              "      <td id=\"T_66ea5_row16_col1\" class=\"data row16 col1\" >745</td>\n",
              "    </tr>\n",
              "    <tr>\n",
              "      <th id=\"T_66ea5_level0_row17\" class=\"row_heading level0 row17\" >17</th>\n",
              "      <td id=\"T_66ea5_row17_col0\" class=\"data row17 col0\" >get</td>\n",
              "      <td id=\"T_66ea5_row17_col1\" class=\"data row17 col1\" >740</td>\n",
              "    </tr>\n",
              "    <tr>\n",
              "      <th id=\"T_66ea5_level0_row18\" class=\"row_heading level0 row18\" >18</th>\n",
              "      <td id=\"T_66ea5_row18_col0\" class=\"data row18 col0\" >anyth</td>\n",
              "      <td id=\"T_66ea5_row18_col1\" class=\"data row18 col1\" >708</td>\n",
              "    </tr>\n",
              "    <tr>\n",
              "      <th id=\"T_66ea5_level0_row19\" class=\"row_heading level0 row19\" >19</th>\n",
              "      <td id=\"T_66ea5_row19_col0\" class=\"data row19 col0\" >racism</td>\n",
              "      <td id=\"T_66ea5_row19_col1\" class=\"data row19 col1\" >689</td>\n",
              "    </tr>\n",
              "  </tbody>\n",
              "</table>\n"
            ]
          },
          "metadata": {},
          "execution_count": 50
        }
      ],
      "source": [
        "ethnicity = Counter([item for sublist in ethnicity_type['tweet_list'] for item in sublist])\n",
        "top20_ethnicity = pd.DataFrame(ethnicity.most_common(20))\n",
        "top20_ethnicity.columns = ['Top Words','Count']\n",
        "top20_ethnicity.style.background_gradient(cmap='Greens')"
      ]
    },
    {
      "cell_type": "code",
      "execution_count": 51,
      "id": "e186b9be",
      "metadata": {
        "id": "e186b9be",
        "outputId": "8d9e6656-cb2c-4816-828b-276c47488a48",
        "colab": {
          "base_uri": "https://localhost:8080/",
          "height": 593
        }
      },
      "outputs": [
        {
          "output_type": "execute_result",
          "data": {
            "text/plain": [
              "Text(0.5, 1.0, 'Top 20 words in Ethnicity Cyberbullying')"
            ]
          },
          "metadata": {},
          "execution_count": 51
        },
        {
          "output_type": "display_data",
          "data": {
            "text/plain": [
              "<Figure size 1500x800 with 1 Axes>"
            ],
            "image/png": "[encoded data removed]"
          },
          "metadata": {}
        }
      ],
      "source": [
        "fig = plt.figure(figsize=(15,8))\n",
        "sns.barplot(data=top20_ethnicity, y=\"Count\", x=\"Top Words\")\n",
        "plt.title(\"Top 20 words in Ethnicity Cyberbullying\")"
      ]
    },
    {
      "cell_type": "markdown",
      "id": "ff2b24b3",
      "metadata": {
        "id": "ff2b24b3"
      },
      "source": [
        "# Other types of Cyberbullying"
      ]
    },
    {
      "cell_type": "code",
      "execution_count": 52,
      "id": "c5ca6ffe",
      "metadata": {
        "id": "c5ca6ffe",
        "outputId": "ab55b1fa-5277-4810-995f-49cfc8d8cc45",
        "colab": {
          "base_uri": "https://localhost:8080/",
          "height": 677
        }
      },
      "outputs": [
        {
          "output_type": "execute_result",
          "data": {
            "text/plain": [
              "<pandas.io.formats.style.Styler at 0x7efd63495c70>"
            ],
            "text/html": [
              "<style type=\"text/css\">\n",
              "#T_b6951_row0_col1 {\n",
              "  background-color: #00441b;\n",
              "  color: #f1f1f1;\n",
              "}\n",
              "#T_b6951_row1_col1 {\n",
              "  background-color: #1a843f;\n",
              "  color: #f1f1f1;\n",
              "}\n",
              "#T_b6951_row2_col1 {\n",
              "  background-color: #7fc97f;\n",
              "  color: #000000;\n",
              "}\n",
              "#T_b6951_row3_col1 {\n",
              "  background-color: #a9dca3;\n",
              "  color: #000000;\n",
              "}\n",
              "#T_b6951_row4_col1 {\n",
              "  background-color: #b6e2af;\n",
              "  color: #000000;\n",
              "}\n",
              "#T_b6951_row5_col1 {\n",
              "  background-color: #c8e9c1;\n",
              "  color: #000000;\n",
              "}\n",
              "#T_b6951_row6_col1 {\n",
              "  background-color: #e1f3dc;\n",
              "  color: #000000;\n",
              "}\n",
              "#T_b6951_row7_col1 {\n",
              "  background-color: #e6f5e1;\n",
              "  color: #000000;\n",
              "}\n",
              "#T_b6951_row8_col1, #T_b6951_row9_col1 {\n",
              "  background-color: #ebf7e7;\n",
              "  color: #000000;\n",
              "}\n",
              "#T_b6951_row10_col1 {\n",
              "  background-color: #ecf8e8;\n",
              "  color: #000000;\n",
              "}\n",
              "#T_b6951_row11_col1 {\n",
              "  background-color: #eef8ea;\n",
              "  color: #000000;\n",
              "}\n",
              "#T_b6951_row12_col1 {\n",
              "  background-color: #f0f9ec;\n",
              "  color: #000000;\n",
              "}\n",
              "#T_b6951_row13_col1 {\n",
              "  background-color: #f2faef;\n",
              "  color: #000000;\n",
              "}\n",
              "#T_b6951_row14_col1 {\n",
              "  background-color: #f2faf0;\n",
              "  color: #000000;\n",
              "}\n",
              "#T_b6951_row15_col1 {\n",
              "  background-color: #f3faf0;\n",
              "  color: #000000;\n",
              "}\n",
              "#T_b6951_row16_col1, #T_b6951_row17_col1, #T_b6951_row18_col1 {\n",
              "  background-color: #f6fcf4;\n",
              "  color: #000000;\n",
              "}\n",
              "#T_b6951_row19_col1 {\n",
              "  background-color: #f7fcf5;\n",
              "  color: #000000;\n",
              "}\n",
              "</style>\n",
              "<table id=\"T_b6951\" class=\"dataframe\">\n",
              "  <thead>\n",
              "    <tr>\n",
              "      <th class=\"blank level0\" >&nbsp;</th>\n",
              "      <th id=\"T_b6951_level0_col0\" class=\"col_heading level0 col0\" >Top Words</th>\n",
              "      <th id=\"T_b6951_level0_col1\" class=\"col_heading level0 col1\" >Count</th>\n",
              "    </tr>\n",
              "  </thead>\n",
              "  <tbody>\n",
              "    <tr>\n",
              "      <th id=\"T_b6951_level0_row0\" class=\"row_heading level0 row0\" >0</th>\n",
              "      <td id=\"T_b6951_row0_col0\" class=\"data row0 col0\" >bulli</td>\n",
              "      <td id=\"T_b6951_row0_col1\" class=\"data row0 col1\" >882</td>\n",
              "    </tr>\n",
              "    <tr>\n",
              "      <th id=\"T_b6951_level0_row1\" class=\"row_heading level0 row1\" >1</th>\n",
              "      <td id=\"T_b6951_row1_col0\" class=\"data row1 col0\" >rt</td>\n",
              "      <td id=\"T_b6951_row1_col1\" class=\"data row1 col1\" >727</td>\n",
              "    </tr>\n",
              "    <tr>\n",
              "      <th id=\"T_b6951_level0_row2\" class=\"row_heading level0 row2\" >2</th>\n",
              "      <td id=\"T_b6951_row2_col0\" class=\"data row2 col0\" >fuck</td>\n",
              "      <td id=\"T_b6951_row2_col1\" class=\"data row2 col1\" >509</td>\n",
              "    </tr>\n",
              "    <tr>\n",
              "      <th id=\"T_b6951_level0_row3\" class=\"row_heading level0 row3\" >3</th>\n",
              "      <td id=\"T_b6951_row3_col0\" class=\"data row3 col0\" >like</td>\n",
              "      <td id=\"T_b6951_row3_col1\" class=\"data row3 col1\" >424</td>\n",
              "    </tr>\n",
              "    <tr>\n",
              "      <th id=\"T_b6951_level0_row4\" class=\"row_heading level0 row4\" >4</th>\n",
              "      <td id=\"T_b6951_row4_col0\" class=\"data row4 col0\" >get</td>\n",
              "      <td id=\"T_b6951_row4_col1\" class=\"data row4 col1\" >393</td>\n",
              "    </tr>\n",
              "    <tr>\n",
              "      <th id=\"T_b6951_level0_row5\" class=\"row_heading level0 row5\" >5</th>\n",
              "      <td id=\"T_b6951_row5_col0\" class=\"data row5 col0\" >peopl</td>\n",
              "      <td id=\"T_b6951_row5_col1\" class=\"data row5 col1\" >353</td>\n",
              "    </tr>\n",
              "    <tr>\n",
              "      <th id=\"T_b6951_level0_row6\" class=\"row_heading level0 row6\" >6</th>\n",
              "      <td id=\"T_b6951_row6_col0\" class=\"data row6 col0\" >go</td>\n",
              "      <td id=\"T_b6951_row6_col1\" class=\"data row6 col1\" >277</td>\n",
              "    </tr>\n",
              "    <tr>\n",
              "      <th id=\"T_b6951_level0_row7\" class=\"row_heading level0 row7\" >7</th>\n",
              "      <td id=\"T_b6951_row7_col0\" class=\"data row7 col0\" >idiot</td>\n",
              "      <td id=\"T_b6951_row7_col1\" class=\"data row7 col1\" >261</td>\n",
              "    </tr>\n",
              "    <tr>\n",
              "      <th id=\"T_b6951_level0_row8\" class=\"row_heading level0 row8\" >8</th>\n",
              "      <td id=\"T_b6951_row8_col0\" class=\"data row8 col0\" >know</td>\n",
              "      <td id=\"T_b6951_row8_col1\" class=\"data row8 col1\" >241</td>\n",
              "    </tr>\n",
              "    <tr>\n",
              "      <th id=\"T_b6951_level0_row9\" class=\"row_heading level0 row9\" >9</th>\n",
              "      <td id=\"T_b6951_row9_col0\" class=\"data row9 col0\" >think</td>\n",
              "      <td id=\"T_b6951_row9_col1\" class=\"data row9 col1\" >237</td>\n",
              "    </tr>\n",
              "    <tr>\n",
              "      <th id=\"T_b6951_level0_row10\" class=\"row_heading level0 row10\" >10</th>\n",
              "      <td id=\"T_b6951_row10_col0\" class=\"data row10 col0\" >would</td>\n",
              "      <td id=\"T_b6951_row10_col1\" class=\"data row10 col1\" >235</td>\n",
              "    </tr>\n",
              "    <tr>\n",
              "      <th id=\"T_b6951_level0_row11\" class=\"row_heading level0 row11\" >11</th>\n",
              "      <td id=\"T_b6951_row11_col0\" class=\"data row11 col0\" >u</td>\n",
              "      <td id=\"T_b6951_row11_col1\" class=\"data row11 col1\" >223</td>\n",
              "    </tr>\n",
              "    <tr>\n",
              "      <th id=\"T_b6951_level0_row12\" class=\"row_heading level0 row12\" >12</th>\n",
              "      <td id=\"T_b6951_row12_col0\" class=\"data row12 col0\" >make</td>\n",
              "      <td id=\"T_b6951_row12_col1\" class=\"data row12 col1\" >215</td>\n",
              "    </tr>\n",
              "    <tr>\n",
              "      <th id=\"T_b6951_level0_row13\" class=\"row_heading level0 row13\" >13</th>\n",
              "      <td id=\"T_b6951_row13_col0\" class=\"data row13 col0\" >one</td>\n",
              "      <td id=\"T_b6951_row13_col1\" class=\"data row13 col1\" >205</td>\n",
              "    </tr>\n",
              "    <tr>\n",
              "      <th id=\"T_b6951_level0_row14\" class=\"row_heading level0 row14\" >14</th>\n",
              "      <td id=\"T_b6951_row14_col0\" class=\"data row14 col0\" >time</td>\n",
              "      <td id=\"T_b6951_row14_col1\" class=\"data row14 col1\" >202</td>\n",
              "    </tr>\n",
              "    <tr>\n",
              "      <th id=\"T_b6951_level0_row15\" class=\"row_heading level0 row15\" >15</th>\n",
              "      <td id=\"T_b6951_row15_col0\" class=\"data row15 col0\" >hate</td>\n",
              "      <td id=\"T_b6951_row15_col1\" class=\"data row15 col1\" >199</td>\n",
              "    </tr>\n",
              "    <tr>\n",
              "      <th id=\"T_b6951_level0_row16\" class=\"row_heading level0 row16\" >16</th>\n",
              "      <td id=\"T_b6951_row16_col0\" class=\"data row16 col0\" >want</td>\n",
              "      <td id=\"T_b6951_row16_col1\" class=\"data row16 col1\" >183</td>\n",
              "    </tr>\n",
              "    <tr>\n",
              "      <th id=\"T_b6951_level0_row17\" class=\"row_heading level0 row17\" >17</th>\n",
              "      <td id=\"T_b6951_row17_col0\" class=\"data row17 col0\" >thing</td>\n",
              "      <td id=\"T_b6951_row17_col1\" class=\"data row17 col1\" >182</td>\n",
              "    </tr>\n",
              "    <tr>\n",
              "      <th id=\"T_b6951_level0_row18\" class=\"row_heading level0 row18\" >18</th>\n",
              "      <td id=\"T_b6951_row18_col0\" class=\"data row18 col0\" >need</td>\n",
              "      <td id=\"T_b6951_row18_col1\" class=\"data row18 col1\" >182</td>\n",
              "    </tr>\n",
              "    <tr>\n",
              "      <th id=\"T_b6951_level0_row19\" class=\"row_heading level0 row19\" >19</th>\n",
              "      <td id=\"T_b6951_row19_col0\" class=\"data row19 col0\" >see</td>\n",
              "      <td id=\"T_b6951_row19_col1\" class=\"data row19 col1\" >178</td>\n",
              "    </tr>\n",
              "  </tbody>\n",
              "</table>\n"
            ]
          },
          "metadata": {},
          "execution_count": 52
        }
      ],
      "source": [
        "other_cyberbullying = Counter([item for sublist in other_cyberbullying_type['tweet_list'] for item in sublist])\n",
        "top20_other_cyberbullying = pd.DataFrame(other_cyberbullying.most_common(20))\n",
        "top20_other_cyberbullying.columns = ['Top Words','Count']\n",
        "top20_other_cyberbullying.style.background_gradient(cmap='Greens')"
      ]
    },
    {
      "cell_type": "code",
      "execution_count": 53,
      "id": "42204cf5",
      "metadata": {
        "id": "42204cf5",
        "outputId": "d904a5e2-9ab6-47fe-b8e7-361fcc290807",
        "colab": {
          "base_uri": "https://localhost:8080/",
          "height": 597
        }
      },
      "outputs": [
        {
          "output_type": "execute_result",
          "data": {
            "text/plain": [
              "Text(0.5, 1.0, 'Top 20 words in Other Cyberbullying')"
            ]
          },
          "metadata": {},
          "execution_count": 53
        },
        {
          "output_type": "display_data",
          "data": {
            "text/plain": [
              "<Figure size 1500x800 with 1 Axes>"
            ],
            "image/png": "[encoded data removed]"
          },
          "metadata": {}
        }
      ],
      "source": [
        "fig = plt.figure(figsize=(15,8))\n",
        "sns.barplot(data=top20_other_cyberbullying, y=\"Count\", x=\"Top Words\")\n",
        "plt.title(\"Top 20 words in Other Cyberbullying\")"
      ]
    },
    {
      "cell_type": "markdown",
      "id": "54f6c8bf",
      "metadata": {
        "id": "54f6c8bf"
      },
      "source": [
        "# Tweets without Cyberbullying"
      ]
    },
    {
      "cell_type": "code",
      "execution_count": 54,
      "id": "a0b925b2",
      "metadata": {
        "id": "a0b925b2",
        "outputId": "b92a5bd5-0dff-493f-f62f-e7217107fdf2",
        "colab": {
          "base_uri": "https://localhost:8080/",
          "height": 677
        }
      },
      "outputs": [
        {
          "output_type": "execute_result",
          "data": {
            "text/plain": [
              "<pandas.io.formats.style.Styler at 0x7efd65e6bcd0>"
            ],
            "text/html": [
              "<style type=\"text/css\">\n",
              "#T_c5ff7_row0_col1 {\n",
              "  background-color: #00441b;\n",
              "  color: #f1f1f1;\n",
              "}\n",
              "#T_c5ff7_row1_col1 {\n",
              "  background-color: #45ad5f;\n",
              "  color: #f1f1f1;\n",
              "}\n",
              "#T_c5ff7_row2_col1 {\n",
              "  background-color: #98d594;\n",
              "  color: #000000;\n",
              "}\n",
              "#T_c5ff7_row3_col1, #T_c5ff7_row4_col1 {\n",
              "  background-color: #ddf2d8;\n",
              "  color: #000000;\n",
              "}\n",
              "#T_c5ff7_row5_col1 {\n",
              "  background-color: #e2f4dd;\n",
              "  color: #000000;\n",
              "}\n",
              "#T_c5ff7_row6_col1 {\n",
              "  background-color: #e5f5e1;\n",
              "  color: #000000;\n",
              "}\n",
              "#T_c5ff7_row7_col1, #T_c5ff7_row8_col1 {\n",
              "  background-color: #eef8ea;\n",
              "  color: #000000;\n",
              "}\n",
              "#T_c5ff7_row9_col1 {\n",
              "  background-color: #f0f9ec;\n",
              "  color: #000000;\n",
              "}\n",
              "#T_c5ff7_row10_col1 {\n",
              "  background-color: #f0f9ed;\n",
              "  color: #000000;\n",
              "}\n",
              "#T_c5ff7_row11_col1 {\n",
              "  background-color: #f1faee;\n",
              "  color: #000000;\n",
              "}\n",
              "#T_c5ff7_row12_col1 {\n",
              "  background-color: #f2faf0;\n",
              "  color: #000000;\n",
              "}\n",
              "#T_c5ff7_row13_col1, #T_c5ff7_row14_col1 {\n",
              "  background-color: #f4fbf1;\n",
              "  color: #000000;\n",
              "}\n",
              "#T_c5ff7_row15_col1 {\n",
              "  background-color: #f4fbf2;\n",
              "  color: #000000;\n",
              "}\n",
              "#T_c5ff7_row16_col1 {\n",
              "  background-color: #f5fbf2;\n",
              "  color: #000000;\n",
              "}\n",
              "#T_c5ff7_row17_col1 {\n",
              "  background-color: #f6fcf4;\n",
              "  color: #000000;\n",
              "}\n",
              "#T_c5ff7_row18_col1, #T_c5ff7_row19_col1 {\n",
              "  background-color: #f7fcf5;\n",
              "  color: #000000;\n",
              "}\n",
              "</style>\n",
              "<table id=\"T_c5ff7\" class=\"dataframe\">\n",
              "  <thead>\n",
              "    <tr>\n",
              "      <th class=\"blank level0\" >&nbsp;</th>\n",
              "      <th id=\"T_c5ff7_level0_col0\" class=\"col_heading level0 col0\" >Top Words</th>\n",
              "      <th id=\"T_c5ff7_level0_col1\" class=\"col_heading level0 col1\" >Count</th>\n",
              "    </tr>\n",
              "  </thead>\n",
              "  <tbody>\n",
              "    <tr>\n",
              "      <th id=\"T_c5ff7_level0_row0\" class=\"row_heading level0 row0\" >0</th>\n",
              "      <td id=\"T_c5ff7_row0_col0\" class=\"data row0 col0\" >mkr</td>\n",
              "      <td id=\"T_c5ff7_row0_col1\" class=\"data row0 col1\" >1674</td>\n",
              "    </tr>\n",
              "    <tr>\n",
              "      <th id=\"T_c5ff7_level0_row1\" class=\"row_heading level0 row1\" >1</th>\n",
              "      <td id=\"T_c5ff7_row1_col0\" class=\"data row1 col0\" >bulli</td>\n",
              "      <td id=\"T_c5ff7_row1_col1\" class=\"data row1 col1\" >1102</td>\n",
              "    </tr>\n",
              "    <tr>\n",
              "      <th id=\"T_c5ff7_level0_row2\" class=\"row_heading level0 row2\" >2</th>\n",
              "      <td id=\"T_c5ff7_row2_col0\" class=\"data row2 col0\" >rt</td>\n",
              "      <td id=\"T_c5ff7_row2_col1\" class=\"data row2 col1\" >785</td>\n",
              "    </tr>\n",
              "    <tr>\n",
              "      <th id=\"T_c5ff7_level0_row3\" class=\"row_heading level0 row3\" >3</th>\n",
              "      <td id=\"T_c5ff7_row3_col0\" class=\"data row3 col0\" >like</td>\n",
              "      <td id=\"T_c5ff7_row3_col1\" class=\"data row3 col1\" >424</td>\n",
              "    </tr>\n",
              "    <tr>\n",
              "      <th id=\"T_c5ff7_level0_row4\" class=\"row_heading level0 row4\" >4</th>\n",
              "      <td id=\"T_c5ff7_row4_col0\" class=\"data row4 col0\" >get</td>\n",
              "      <td id=\"T_c5ff7_row4_col1\" class=\"data row4 col1\" >423</td>\n",
              "    </tr>\n",
              "    <tr>\n",
              "      <th id=\"T_c5ff7_level0_row5\" class=\"row_heading level0 row5\" >5</th>\n",
              "      <td id=\"T_c5ff7_row5_col0\" class=\"data row5 col0\" >go</td>\n",
              "      <td id=\"T_c5ff7_row5_col1\" class=\"data row5 col1\" >394</td>\n",
              "    </tr>\n",
              "    <tr>\n",
              "      <th id=\"T_c5ff7_level0_row6\" class=\"row_heading level0 row6\" >6</th>\n",
              "      <td id=\"T_c5ff7_row6_col0\" class=\"data row6 col0\" >school</td>\n",
              "      <td id=\"T_c5ff7_row6_col1\" class=\"data row6 col1\" >374</td>\n",
              "    </tr>\n",
              "    <tr>\n",
              "      <th id=\"T_c5ff7_level0_row7\" class=\"row_heading level0 row7\" >7</th>\n",
              "      <td id=\"T_c5ff7_row7_col0\" class=\"data row7 col0\" >kat</td>\n",
              "      <td id=\"T_c5ff7_row7_col1\" class=\"data row7 col1\" >286</td>\n",
              "    </tr>\n",
              "    <tr>\n",
              "      <th id=\"T_c5ff7_level0_row8\" class=\"row_heading level0 row8\" >8</th>\n",
              "      <td id=\"T_c5ff7_row8_col0\" class=\"data row8 col0\" >would</td>\n",
              "      <td id=\"T_c5ff7_row8_col1\" class=\"data row8 col1\" >286</td>\n",
              "    </tr>\n",
              "    <tr>\n",
              "      <th id=\"T_c5ff7_level0_row9\" class=\"row_heading level0 row9\" >9</th>\n",
              "      <td id=\"T_c5ff7_row9_col0\" class=\"data row9 col0\" >peopl</td>\n",
              "      <td id=\"T_c5ff7_row9_col1\" class=\"data row9 col1\" >272</td>\n",
              "    </tr>\n",
              "    <tr>\n",
              "      <th id=\"T_c5ff7_level0_row10\" class=\"row_heading level0 row10\" >10</th>\n",
              "      <td id=\"T_c5ff7_row10_col0\" class=\"data row10 col0\" >one</td>\n",
              "      <td id=\"T_c5ff7_row10_col1\" class=\"data row10 col1\" >264</td>\n",
              "    </tr>\n",
              "    <tr>\n",
              "      <th id=\"T_c5ff7_level0_row11\" class=\"row_heading level0 row11\" >11</th>\n",
              "      <td id=\"T_c5ff7_row11_col0\" class=\"data row11 col0\" >amp</td>\n",
              "      <td id=\"T_c5ff7_row11_col1\" class=\"data row11 col1\" >258</td>\n",
              "    </tr>\n",
              "    <tr>\n",
              "      <th id=\"T_c5ff7_level0_row12\" class=\"row_heading level0 row12\" >12</th>\n",
              "      <td id=\"T_c5ff7_row12_col0\" class=\"data row12 col0\" >think</td>\n",
              "      <td id=\"T_c5ff7_row12_col1\" class=\"data row12 col1\" >242</td>\n",
              "    </tr>\n",
              "    <tr>\n",
              "      <th id=\"T_c5ff7_level0_row13\" class=\"row_heading level0 row13\" >13</th>\n",
              "      <td id=\"T_c5ff7_row13_col0\" class=\"data row13 col0\" >u</td>\n",
              "      <td id=\"T_c5ff7_row13_col1\" class=\"data row13 col1\" >231</td>\n",
              "    </tr>\n",
              "    <tr>\n",
              "      <th id=\"T_c5ff7_level0_row14\" class=\"row_heading level0 row14\" >14</th>\n",
              "      <td id=\"T_c5ff7_row14_col0\" class=\"data row14 col0\" >know</td>\n",
              "      <td id=\"T_c5ff7_row14_col1\" class=\"data row14 col1\" >229</td>\n",
              "    </tr>\n",
              "    <tr>\n",
              "      <th id=\"T_c5ff7_level0_row15\" class=\"row_heading level0 row15\" >15</th>\n",
              "      <td id=\"T_c5ff7_row15_col0\" class=\"data row15 col0\" >time</td>\n",
              "      <td id=\"T_c5ff7_row15_col1\" class=\"data row15 col1\" >224</td>\n",
              "    </tr>\n",
              "    <tr>\n",
              "      <th id=\"T_c5ff7_level0_row16\" class=\"row_heading level0 row16\" >16</th>\n",
              "      <td id=\"T_c5ff7_row16_col0\" class=\"data row16 col0\" >make</td>\n",
              "      <td id=\"T_c5ff7_row16_col1\" class=\"data row16 col1\" >219</td>\n",
              "    </tr>\n",
              "    <tr>\n",
              "      <th id=\"T_c5ff7_level0_row17\" class=\"row_heading level0 row17\" >17</th>\n",
              "      <td id=\"T_c5ff7_row17_col0\" class=\"data row17 col0\" >love</td>\n",
              "      <td id=\"T_c5ff7_row17_col1\" class=\"data row17 col1\" >207</td>\n",
              "    </tr>\n",
              "    <tr>\n",
              "      <th id=\"T_c5ff7_level0_row18\" class=\"row_heading level0 row18\" >18</th>\n",
              "      <td id=\"T_c5ff7_row18_col0\" class=\"data row18 col0\" >andr</td>\n",
              "      <td id=\"T_c5ff7_row18_col1\" class=\"data row18 col1\" >194</td>\n",
              "    </tr>\n",
              "    <tr>\n",
              "      <th id=\"T_c5ff7_level0_row19\" class=\"row_heading level0 row19\" >19</th>\n",
              "      <td id=\"T_c5ff7_row19_col0\" class=\"data row19 col0\" >need</td>\n",
              "      <td id=\"T_c5ff7_row19_col1\" class=\"data row19 col1\" >191</td>\n",
              "    </tr>\n",
              "  </tbody>\n",
              "</table>\n"
            ]
          },
          "metadata": {},
          "execution_count": 54
        }
      ],
      "source": [
        "not_cyberbullying = Counter([item for sublist in not_cyberbullying_type['tweet_list'] for item in sublist])\n",
        "top20_not_cyberbullying = pd.DataFrame(not_cyberbullying.most_common(20))\n",
        "top20_not_cyberbullying.columns = ['Top Words','Count']\n",
        "top20_not_cyberbullying.style.background_gradient(cmap='Greens')"
      ]
    },
    {
      "cell_type": "code",
      "execution_count": 55,
      "id": "dc077276",
      "metadata": {
        "id": "dc077276",
        "outputId": "a7e57932-4f5e-4399-c41c-48c32cc4ed96",
        "colab": {
          "base_uri": "https://localhost:8080/",
          "height": 593
        }
      },
      "outputs": [
        {
          "output_type": "execute_result",
          "data": {
            "text/plain": [
              "Text(0.5, 1.0, 'Top 20 words in Not Cyberbullying')"
            ]
          },
          "metadata": {},
          "execution_count": 55
        },
        {
          "output_type": "display_data",
          "data": {
            "text/plain": [
              "<Figure size 1500x800 with 1 Axes>"
            ],
            "image/png": "[encoded data removed]"
          },
          "metadata": {}
        }
      ],
      "source": [
        "fig = plt.figure(figsize=(15,8))\n",
        "sns.barplot(data=top20_not_cyberbullying, y=\"Count\", x=\"Top Words\")\n",
        "plt.title(\"Top 20 words in Not Cyberbullying\")"
      ]
    },
    {
      "cell_type": "code",
      "execution_count": 56,
      "id": "37454d4a",
      "metadata": {
        "id": "37454d4a",
        "outputId": "3dfd6f09-5a81-4799-8e0f-758aa796ca46",
        "colab": {
          "base_uri": "https://localhost:8080/",
          "height": 337
        }
      },
      "outputs": [
        {
          "output_type": "execute_result",
          "data": {
            "text/plain": [
              "                                                text          sentiment  \\\n",
              "0  In other words #katandandre, your food was cra...  not_cyberbullying   \n",
              "1  Why is #aussietv so white? #MKR #theblock #ImA...  not_cyberbullying   \n",
              "2  @XochitlSuckkks a classy whore? Or more red ve...  not_cyberbullying   \n",
              "3  @Jason_Gio meh. :P  thanks for the heads up, b...  not_cyberbullying   \n",
              "4  @RudhoeEnglish This is an ISIS account pretend...  not_cyberbullying   \n",
              "\n",
              "   sentiment_encoded                                       cleaned_text  \\\n",
              "0                  6                 word katandandr food crapilici mkr   \n",
              "1                  6  aussietv white mkr theblock imacelebrityau tod...   \n",
              "2                  6                     classi whore red velvet cupcak   \n",
              "3                  6  meh p thank head concern anoth angri dude twitter   \n",
              "4                  6  isi account pretend kurdish account like islam...   \n",
              "\n",
              "                                          tweet_list  text_len  \n",
              "0           [word, katandandr, food, crapilici, mkr]         5  \n",
              "1  [aussietv, white, mkr, theblock, imacelebritya...        11  \n",
              "2               [classi, whore, red, velvet, cupcak]         5  \n",
              "3  [meh, p, thank, head, concern, anoth, angri, d...         9  \n",
              "4  [isi, account, pretend, kurdish, account, like...         8  "
            ],
            "text/html": [
              "\n",
              "  <div id=\"df-d596c154-3636-4a36-9f2a-000931778807\">\n",
              "    <div class=\"colab-df-container\">\n",
              "      <div>\n",
              "<style scoped>\n",
              "    .dataframe tbody tr th:only-of-type {\n",
              "        vertical-align: middle;\n",
              "    }\n",
              "\n",
              "    .dataframe tbody tr th {\n",
              "        vertical-align: top;\n",
              "    }\n",
              "\n",
              "    .dataframe thead th {\n",
              "        text-align: right;\n",
              "    }\n",
              "</style>\n",
              "<table border=\"1\" class=\"dataframe\">\n",
              "  <thead>\n",
              "    <tr style=\"text-align: right;\">\n",
              "      <th></th>\n",
              "      <th>text</th>\n",
              "      <th>sentiment</th>\n",
              "      <th>sentiment_encoded</th>\n",
              "      <th>cleaned_text</th>\n",
              "      <th>tweet_list</th>\n",
              "      <th>text_len</th>\n",
              "    </tr>\n",
              "  </thead>\n",
              "  <tbody>\n",
              "    <tr>\n",
              "      <th>0</th>\n",
              "      <td>In other words #katandandre, your food was cra...</td>\n",
              "      <td>not_cyberbullying</td>\n",
              "      <td>6</td>\n",
              "      <td>word katandandr food crapilici mkr</td>\n",
              "      <td>[word, katandandr, food, crapilici, mkr]</td>\n",
              "      <td>5</td>\n",
              "    </tr>\n",
              "    <tr>\n",
              "      <th>1</th>\n",
              "      <td>Why is #aussietv so white? #MKR #theblock #ImA...</td>\n",
              "      <td>not_cyberbullying</td>\n",
              "      <td>6</td>\n",
              "      <td>aussietv white mkr theblock imacelebrityau tod...</td>\n",
              "      <td>[aussietv, white, mkr, theblock, imacelebritya...</td>\n",
              "      <td>11</td>\n",
              "    </tr>\n",
              "    <tr>\n",
              "      <th>2</th>\n",
              "      <td>@XochitlSuckkks a classy whore? Or more red ve...</td>\n",
              "      <td>not_cyberbullying</td>\n",
              "      <td>6</td>\n",
              "      <td>classi whore red velvet cupcak</td>\n",
              "      <td>[classi, whore, red, velvet, cupcak]</td>\n",
              "      <td>5</td>\n",
              "    </tr>\n",
              "    <tr>\n",
              "      <th>3</th>\n",
              "      <td>@Jason_Gio meh. :P  thanks for the heads up, b...</td>\n",
              "      <td>not_cyberbullying</td>\n",
              "      <td>6</td>\n",
              "      <td>meh p thank head concern anoth angri dude twitter</td>\n",
              "      <td>[meh, p, thank, head, concern, anoth, angri, d...</td>\n",
              "      <td>9</td>\n",
              "    </tr>\n",
              "    <tr>\n",
              "      <th>4</th>\n",
              "      <td>@RudhoeEnglish This is an ISIS account pretend...</td>\n",
              "      <td>not_cyberbullying</td>\n",
              "      <td>6</td>\n",
              "      <td>isi account pretend kurdish account like islam...</td>\n",
              "      <td>[isi, account, pretend, kurdish, account, like...</td>\n",
              "      <td>8</td>\n",
              "    </tr>\n",
              "  </tbody>\n",
              "</table>\n",
              "</div>\n",
              "      <button class=\"colab-df-convert\" onclick=\"convertToInteractive('df-d596c154-3636-4a36-9f2a-000931778807')\"\n",
              "              title=\"Convert this dataframe to an interactive table.\"\n",
              "              style=\"display:none;\">\n",
              "        \n",
              "  <svg xmlns=\"http://www.w3.org/2000/svg\" height=\"24px\"viewBox=\"0 0 24 24\"\n",
              "       width=\"24px\">\n",
              "    <path d=\"M0 0h24v24H0V0z\" fill=\"none\"/>\n",
              "    <path d=\"M18.56 5.44l.94 2.06.94-2.06 2.06-.94-2.06-.94-.94-2.06-.94 2.06-2.06.94zm-11 1L8.5 8.5l.94-2.06 2.06-.94-2.06-.94L8.5 2.5l-.94 2.06-2.06.94zm10 10l.94 2.06.94-2.06 2.06-.94-2.06-.94-.94-2.06-.94 2.06-2.06.94z\"/><path d=\"M17.41 7.96l-1.37-1.37c-.4-.4-.92-.59-1.43-.59-.52 0-1.04.2-1.43.59L10.3 9.45l-7.72 7.72c-.78.78-.78 2.05 0 2.83L4 21.41c.39.39.9.59 1.41.59.51 0 1.02-.2 1.41-.59l7.78-7.78 2.81-2.81c.8-.78.8-2.07 0-2.86zM5.41 20L4 18.59l7.72-7.72 1.47 1.35L5.41 20z\"/>\n",
              "  </svg>\n",
              "      </button>\n",
              "      \n",
              "  <style>\n",
              "    .colab-df-container {\n",
              "      display:flex;\n",
              "      flex-wrap:wrap;\n",
              "      gap: 12px;\n",
              "    }\n",
              "\n",
              "    .colab-df-convert {\n",
              "      background-color: #E8F0FE;\n",
              "      border: none;\n",
              "      border-radius: 50%;\n",
              "      cursor: pointer;\n",
              "      display: none;\n",
              "      fill: #1967D2;\n",
              "      height: 32px;\n",
              "      padding: 0 0 0 0;\n",
              "      width: 32px;\n",
              "    }\n",
              "\n",
              "    .colab-df-convert:hover {\n",
              "      background-color: #E2EBFA;\n",
              "      box-shadow: 0px 1px 2px rgba(60, 64, 67, 0.3), 0px 1px 3px 1px rgba(60, 64, 67, 0.15);\n",
              "      fill: #174EA6;\n",
              "    }\n",
              "\n",
              "    [theme=dark] .colab-df-convert {\n",
              "      background-color: #3B4455;\n",
              "      fill: #D2E3FC;\n",
              "    }\n",
              "\n",
              "    [theme=dark] .colab-df-convert:hover {\n",
              "      background-color: #434B5C;\n",
              "      box-shadow: 0px 1px 3px 1px rgba(0, 0, 0, 0.15);\n",
              "      filter: drop-shadow(0px 1px 2px rgba(0, 0, 0, 0.3));\n",
              "      fill: #FFFFFF;\n",
              "    }\n",
              "  </style>\n",
              "\n",
              "      <script>\n",
              "        const buttonEl =\n",
              "          document.querySelector('#df-d596c154-3636-4a36-9f2a-000931778807 button.colab-df-convert');\n",
              "        buttonEl.style.display =\n",
              "          google.colab.kernel.accessAllowed ? 'block' : 'none';\n",
              "\n",
              "        async function convertToInteractive(key) {\n",
              "          const element = document.querySelector('#df-d596c154-3636-4a36-9f2a-000931778807');\n",
              "          const dataTable =\n",
              "            await google.colab.kernel.invokeFunction('convertToInteractive',\n",
              "                                                     [key], {});\n",
              "          if (!dataTable) return;\n",
              "\n",
              "          const docLinkHtml = 'Like what you see? Visit the ' +\n",
              "            '<a target=\"_blank\" href=https://colab.research.google.com/notebooks/data_table.ipynb>data table notebook</a>'\n",
              "            + ' to learn more about interactive tables.';\n",
              "          element.innerHTML = '';\n",
              "          dataTable['output_type'] = 'display_data';\n",
              "          await google.colab.output.renderOutput(dataTable, element);\n",
              "          const docLink = document.createElement('div');\n",
              "          docLink.innerHTML = docLinkHtml;\n",
              "          element.appendChild(docLink);\n",
              "        }\n",
              "      </script>\n",
              "    </div>\n",
              "  </div>\n",
              "  "
            ]
          },
          "metadata": {},
          "execution_count": 56
        }
      ],
      "source": [
        "data.head()"
      ]
    },
    {
      "cell_type": "code",
      "execution_count": 58,
      "id": "eedfe8d0",
      "metadata": {
        "id": "eedfe8d0"
      },
      "outputs": [],
      "source": [
        "sentiments = [\"religion\", \"age\", \"ethnicity\", \"gender\", \"other_cyberbullying\",\"not_cyberbullying\"]"
      ]
    },
    {
      "cell_type": "markdown",
      "id": "440a39e6",
      "metadata": {
        "id": "440a39e6"
      },
      "source": [
        "# Splitting Data into Train and Test Sets"
      ]
    },
    {
      "cell_type": "markdown",
      "source": [
        "The first line of code X,Y = data['cleaned_text'],data['sentiment_encoded'] assigns two variables X and Y to the cleaned_text and sentiment_encoded columns of the data dataframe, respectively.\n",
        "\n",
        "The second line of code train_test_split(X, Y, test_size = 0.3, stratify =Y, random_state = 42) uses the train_test_split function from scikit-learn library to split the data into training and testing sets.\n",
        "\n",
        "The test_size parameter specifies the proportion of the data that should be allocated to the testing set. In this case, 30% of the data is allocated to the testing set, and the remaining 70% is allocated to the training set.\n",
        "\n",
        "The stratify parameter ensures that the proportion of each class in the original dataset is preserved in both the training and testing sets. In this case, Y is used as the stratification variable to ensure that the proportion of each sentiment category is preserved in both the training and testing sets.\n",
        "\n",
        "The random_state parameter sets the random seed for reproducibility.\n",
        "\n",
        "The output of the train_test_split function is assigned to four variables: X_train, X_test, y_train, and y_test. X_train and y_train are the training data (inputs and outputs), and X_test and y_test are the testing data (inputs and outputs).\n",
        "\n",
        "Finally, the last line of code print(X_train.shape, y_train.shape, X_test.shape, y_test.shape) prints the shape of each split to verify the split was done correctly. The output (31255,) (31255,) (13395,) (13395,) indicates that the training data has 31255 rows, and the testing data has 13395 rows, and both training and testing outputs have the same number of rows."
      ],
      "metadata": {
        "id": "0WowOMk--7ih"
      },
      "id": "0WowOMk--7ih"
    },
    {
      "cell_type": "code",
      "execution_count": 59,
      "id": "d5639dad",
      "metadata": {
        "id": "d5639dad"
      },
      "outputs": [],
      "source": [
        "X,Y = data['cleaned_text'],data['sentiment_encoded']"
      ]
    },
    {
      "cell_type": "code",
      "execution_count": 60,
      "id": "8d820ba2",
      "metadata": {
        "id": "8d820ba2",
        "outputId": "c4a6b7f2-5d99-4142-aa44-41cd75f237cf",
        "colab": {
          "base_uri": "https://localhost:8080/"
        }
      },
      "outputs": [
        {
          "output_type": "stream",
          "name": "stdout",
          "text": [
            "(31255,) (31255,) (13395,) (13395,)\n"
          ]
        }
      ],
      "source": [
        "X_train, X_test, y_train, y_test = train_test_split(X, Y, test_size = 0.3, stratify =Y, random_state = 42)\n",
        "print(X_train.shape, y_train.shape, X_test.shape, y_test.shape)"
      ]
    },
    {
      "cell_type": "markdown",
      "id": "d856c65a",
      "metadata": {
        "id": "d856c65a"
      },
      "source": [
        "## tf-idf Vectorization"
      ]
    },
    {
      "cell_type": "markdown",
      "source": [
        "Used to transform text data into a format that can be used in machine learning models. It assigns a numerical score to each word in a document, based on how often it appears in the document. This approach is useful because it can help identify words that are important to a document while filtering out words that appear commonly across many documents. It also ensures that the testing data is transformed using the same set of features as the training data, which is important for accurate model evaluation."
      ],
      "metadata": {
        "id": "Jpnj5ARuAiIH"
      },
      "id": "Jpnj5ARuAiIH"
    },
    {
      "cell_type": "code",
      "execution_count": 61,
      "id": "38ee8a14",
      "metadata": {
        "id": "38ee8a14",
        "outputId": "535284e4-4cc8-43f1-f302-6d3be70f2372",
        "colab": {
          "base_uri": "https://localhost:8080/"
        }
      },
      "outputs": [
        {
          "output_type": "stream",
          "name": "stdout",
          "text": [
            "(31255, 29111)\n",
            "(13395, 29111)\n"
          ]
        }
      ],
      "source": [
        "tf_idf = TfidfVectorizer()\n",
        "X_train_tf = tf_idf.fit_transform(X_train)\n",
        "X_test_tf = tf_idf.transform(X_test)\n",
        "print(X_train_tf.shape)\n",
        "print(X_test_tf.shape)"
      ]
    },
    {
      "cell_type": "markdown",
      "id": "fb46782d",
      "metadata": {
        "id": "fb46782d"
      },
      "source": [
        "# Trying Different ML Models"
      ]
    },
    {
      "cell_type": "markdown",
      "id": "1c58b9ef",
      "metadata": {
        "id": "1c58b9ef"
      },
      "source": [
        "## Logistic Regression"
      ]
    },
    {
      "cell_type": "markdown",
      "source": [
        "Initializes an instance of the LogisticRegression class from the scikit-learn library.\n",
        "Performs 5-fold cross-validation on the training data using the logistic regression model log_reg."
      ],
      "metadata": {
        "id": "OceZGwj7FBCT"
      },
      "id": "OceZGwj7FBCT"
    },
    {
      "cell_type": "code",
      "execution_count": 62,
      "id": "19fd696a",
      "metadata": {
        "id": "19fd696a"
      },
      "outputs": [],
      "source": [
        "log_reg = LogisticRegression()"
      ]
    },
    {
      "cell_type": "code",
      "execution_count": 63,
      "id": "8a315a7c",
      "metadata": {
        "id": "8a315a7c"
      },
      "outputs": [],
      "source": [
        "log_cv_score = cross_val_score(log_reg,X_train_tf,y_train,cv=5,scoring='f1_macro',n_jobs=-1)"
      ]
    },
    {
      "cell_type": "code",
      "execution_count": 64,
      "id": "713d8410",
      "metadata": {
        "id": "713d8410",
        "outputId": "4fc80c50-0e96-40e5-df8d-60b0d8489c9f",
        "colab": {
          "base_uri": "https://localhost:8080/"
        }
      },
      "outputs": [
        {
          "output_type": "execute_result",
          "data": {
            "text/plain": [
              "0.8228272280708214"
            ]
          },
          "metadata": {},
          "execution_count": 64
        }
      ],
      "source": [
        "mean_log_cv = np.mean(log_cv_score)\n",
        "mean_log_cv"
      ]
    },
    {
      "cell_type": "markdown",
      "id": "27c9371c",
      "metadata": {
        "id": "27c9371c"
      },
      "source": [
        "## Support Vector Classifier"
      ]
    },
    {
      "cell_type": "markdown",
      "source": [
        "The X_train_tf and y_train are two sets of data - X_train_tf contains the data that the model uses to learn the patterns, and y_train contains the correct answers to the patterns in X_train_tf.\n",
        "\n",
        "The cross_val_score() function helps to test the accuracy of the model. It splits the data into five groups (known as \"folds\") and then trains the model on four of the folds, while testing it on the remaining fold. \n",
        "\n",
        "The mean_lin_svc_cv variable stores the average F1 score calculated by the cross_val_score() function, so it gives us an idea of how well the model is likely to perform in general, not just on the training data. "
      ],
      "metadata": {
        "id": "mtztiB8G3hOq"
      },
      "id": "mtztiB8G3hOq"
    },
    {
      "cell_type": "code",
      "execution_count": 65,
      "id": "f14649e1",
      "metadata": {
        "id": "f14649e1"
      },
      "outputs": [],
      "source": [
        "lin_svc = LinearSVC()"
      ]
    },
    {
      "cell_type": "code",
      "execution_count": 66,
      "id": "f110ed71",
      "metadata": {
        "id": "f110ed71",
        "outputId": "fa17d6fb-d323-45a5-d20e-eb7286d519e0",
        "colab": {
          "base_uri": "https://localhost:8080/"
        }
      },
      "outputs": [
        {
          "output_type": "execute_result",
          "data": {
            "text/plain": [
              "0.8220066371295554"
            ]
          },
          "metadata": {},
          "execution_count": 66
        }
      ],
      "source": [
        "lin_svc_cv_score = cross_val_score(lin_svc,X_train_tf,y_train,cv=5,scoring='f1_macro',n_jobs=-1)\n",
        "mean_lin_svc_cv = np.mean(lin_svc_cv_score)\n",
        "mean_lin_svc_cv"
      ]
    },
    {
      "cell_type": "markdown",
      "id": "45941111",
      "metadata": {
        "id": "45941111"
      },
      "source": [
        "## RandomForest Classifier "
      ]
    },
    {
      "cell_type": "code",
      "execution_count": 67,
      "id": "917497ac",
      "metadata": {
        "id": "917497ac"
      },
      "outputs": [],
      "source": [
        "rand_forest = RandomForestClassifier()"
      ]
    },
    {
      "cell_type": "code",
      "execution_count": 68,
      "id": "fa4a8d3e",
      "metadata": {
        "id": "fa4a8d3e",
        "outputId": "29233520-bf2b-4202-91aa-b41c96b29eea",
        "colab": {
          "base_uri": "https://localhost:8080/"
        }
      },
      "outputs": [
        {
          "output_type": "execute_result",
          "data": {
            "text/plain": [
              "0.8295161794693078"
            ]
          },
          "metadata": {},
          "execution_count": 68
        }
      ],
      "source": [
        "rand_forest_cv_score = cross_val_score(rand_forest,X_train_tf,y_train,cv=5,scoring='f1_macro',n_jobs=-1)\n",
        "mean_rand_forest_cv = np.mean(rand_forest_cv_score)\n",
        "mean_rand_forest_cv"
      ]
    },
    {
      "cell_type": "markdown",
      "id": "a48cfd3b",
      "metadata": {
        "id": "a48cfd3b"
      },
      "source": [
        "We can see logistic regression, svm and random forest classifier performed similarly, so among these we will go with svm model as it is more generalised and light"
      ]
    },
    {
      "cell_type": "markdown",
      "id": "b9305d95",
      "metadata": {
        "id": "b9305d95"
      },
      "source": [
        "## Fine Tuning Support Vector Classifier"
      ]
    },
    {
      "cell_type": "markdown",
      "source": [
        "Using Grid Search to find the best hyperparameters for the model, to optimize the performance of the model and improve its accuracy on the test data. Grid Search is a technique used to search for the best combination of hyperparameters by trying all possible combinations and selecting the one that gives the best performance."
      ],
      "metadata": {
        "id": "7IJSpq-R4eX4"
      },
      "id": "7IJSpq-R4eX4"
    },
    {
      "cell_type": "code",
      "execution_count": 69,
      "id": "c0a29506",
      "metadata": {
        "id": "c0a29506",
        "outputId": "a034acdd-5e28-41d8-9f9b-410effcace8f",
        "colab": {
          "base_uri": "https://localhost:8080/",
          "height": 256
        }
      },
      "outputs": [
        {
          "output_type": "execute_result",
          "data": {
            "text/plain": [
              "GridSearchCV(cv=5, estimator=LinearSVC(), n_jobs=-1,\n",
              "             param_grid={'C': [0.0001, 0.001, 0.01, 0.1, 1, 10],\n",
              "                         'fit_intercept': [True, False],\n",
              "                         'loss': ['hinge', 'squared_hinge']},\n",
              "             return_train_score=True, scoring='f1_macro')"
            ],
            "text/html": [
              "<style>#sk-container-id-1 {color: black;background-color: white;}#sk-container-id-1 pre{padding: 0;}#sk-container-id-1 div.sk-toggleable {background-color: white;}#sk-container-id-1 label.sk-toggleable__label {cursor: pointer;display: block;width: 100%;margin-bottom: 0;padding: 0.3em;box-sizing: border-box;text-align: center;}#sk-container-id-1 label.sk-toggleable__label-arrow:before {content: \"▸\";float: left;margin-right: 0.25em;color: #696969;}#sk-container-id-1 label.sk-toggleable__label-arrow:hover:before {color: black;}#sk-container-id-1 div.sk-estimator:hover label.sk-toggleable__label-arrow:before {color: black;}#sk-container-id-1 div.sk-toggleable__content {max-height: 0;max-width: 0;overflow: hidden;text-align: left;background-color: #f0f8ff;}#sk-container-id-1 div.sk-toggleable__content pre {margin: 0.2em;color: black;border-radius: 0.25em;background-color: #f0f8ff;}#sk-container-id-1 input.sk-toggleable__control:checked~div.sk-toggleable__content {max-height: 200px;max-width: 100%;overflow: auto;}#sk-container-id-1 input.sk-toggleable__control:checked~label.sk-toggleable__label-arrow:before {content: \"▾\";}#sk-container-id-1 div.sk-estimator input.sk-toggleable__control:checked~label.sk-toggleable__label {background-color: #d4ebff;}#sk-container-id-1 div.sk-label input.sk-toggleable__control:checked~label.sk-toggleable__label {background-color: #d4ebff;}#sk-container-id-1 input.sk-hidden--visually {border: 0;clip: rect(1px 1px 1px 1px);clip: rect(1px, 1px, 1px, 1px);height: 1px;margin: -1px;overflow: hidden;padding: 0;position: absolute;width: 1px;}#sk-container-id-1 div.sk-estimator {font-family: monospace;background-color: #f0f8ff;border: 1px dotted black;border-radius: 0.25em;box-sizing: border-box;margin-bottom: 0.5em;}#sk-container-id-1 div.sk-estimator:hover {background-color: #d4ebff;}#sk-container-id-1 div.sk-parallel-item::after {content: \"\";width: 100%;border-bottom: 1px solid gray;flex-grow: 1;}#sk-container-id-1 div.sk-label:hover label.sk-toggleable__label {background-color: #d4ebff;}#sk-container-id-1 div.sk-serial::before {content: \"\";position: absolute;border-left: 1px solid gray;box-sizing: border-box;top: 0;bottom: 0;left: 50%;z-index: 0;}#sk-container-id-1 div.sk-serial {display: flex;flex-direction: column;align-items: center;background-color: white;padding-right: 0.2em;padding-left: 0.2em;position: relative;}#sk-container-id-1 div.sk-item {position: relative;z-index: 1;}#sk-container-id-1 div.sk-parallel {display: flex;align-items: stretch;justify-content: center;background-color: white;position: relative;}#sk-container-id-1 div.sk-item::before, #sk-container-id-1 div.sk-parallel-item::before {content: \"\";position: absolute;border-left: 1px solid gray;box-sizing: border-box;top: 0;bottom: 0;left: 50%;z-index: -1;}#sk-container-id-1 div.sk-parallel-item {display: flex;flex-direction: column;z-index: 1;position: relative;background-color: white;}#sk-container-id-1 div.sk-parallel-item:first-child::after {align-self: flex-end;width: 50%;}#sk-container-id-1 div.sk-parallel-item:last-child::after {align-self: flex-start;width: 50%;}#sk-container-id-1 div.sk-parallel-item:only-child::after {width: 0;}#sk-container-id-1 div.sk-dashed-wrapped {border: 1px dashed gray;margin: 0 0.4em 0.5em 0.4em;box-sizing: border-box;padding-bottom: 0.4em;background-color: white;}#sk-container-id-1 div.sk-label label {font-family: monospace;font-weight: bold;display: inline-block;line-height: 1.2em;}#sk-container-id-1 div.sk-label-container {text-align: center;}#sk-container-id-1 div.sk-container {/* jupyter's `normalize.less` sets `[hidden] { display: none; }` but bootstrap.min.css set `[hidden] { display: none !important; }` so we also need the `!important` here to be able to override the default hidden behavior on the sphinx rendered scikit-learn.org. See: https://github.com/scikit-learn/scikit-learn/issues/21755 */display: inline-block !important;position: relative;}#sk-container-id-1 div.sk-text-repr-fallback {display: none;}</style><div id=\"sk-container-id-1\" class=\"sk-top-container\"><div class=\"sk-text-repr-fallback\"><pre>GridSearchCV(cv=5, estimator=LinearSVC(), n_jobs=-1,\n",
              "             param_grid={&#x27;C&#x27;: [0.0001, 0.001, 0.01, 0.1, 1, 10],\n",
              "                         &#x27;fit_intercept&#x27;: [True, False],\n",
              "                         &#x27;loss&#x27;: [&#x27;hinge&#x27;, &#x27;squared_hinge&#x27;]},\n",
              "             return_train_score=True, scoring=&#x27;f1_macro&#x27;)</pre><b>In a Jupyter environment, please rerun this cell to show the HTML representation or trust the notebook. <br />On GitHub, the HTML representation is unable to render, please try loading this page with nbviewer.org.</b></div><div class=\"sk-container\" hidden><div class=\"sk-item sk-dashed-wrapped\"><div class=\"sk-label-container\"><div class=\"sk-label sk-toggleable\"><input class=\"sk-toggleable__control sk-hidden--visually\" id=\"sk-estimator-id-1\" type=\"checkbox\" ><label for=\"sk-estimator-id-1\" class=\"sk-toggleable__label sk-toggleable__label-arrow\">GridSearchCV</label><div class=\"sk-toggleable__content\"><pre>GridSearchCV(cv=5, estimator=LinearSVC(), n_jobs=-1,\n",
              "             param_grid={&#x27;C&#x27;: [0.0001, 0.001, 0.01, 0.1, 1, 10],\n",
              "                         &#x27;fit_intercept&#x27;: [True, False],\n",
              "                         &#x27;loss&#x27;: [&#x27;hinge&#x27;, &#x27;squared_hinge&#x27;]},\n",
              "             return_train_score=True, scoring=&#x27;f1_macro&#x27;)</pre></div></div></div><div class=\"sk-parallel\"><div class=\"sk-parallel-item\"><div class=\"sk-item\"><div class=\"sk-label-container\"><div class=\"sk-label sk-toggleable\"><input class=\"sk-toggleable__control sk-hidden--visually\" id=\"sk-estimator-id-2\" type=\"checkbox\" ><label for=\"sk-estimator-id-2\" class=\"sk-toggleable__label sk-toggleable__label-arrow\">estimator: LinearSVC</label><div class=\"sk-toggleable__content\"><pre>LinearSVC()</pre></div></div></div><div class=\"sk-serial\"><div class=\"sk-item\"><div class=\"sk-estimator sk-toggleable\"><input class=\"sk-toggleable__control sk-hidden--visually\" id=\"sk-estimator-id-3\" type=\"checkbox\" ><label for=\"sk-estimator-id-3\" class=\"sk-toggleable__label sk-toggleable__label-arrow\">LinearSVC</label><div class=\"sk-toggleable__content\"><pre>LinearSVC()</pre></div></div></div></div></div></div></div></div></div></div>"
            ]
          },
          "metadata": {},
          "execution_count": 69
        }
      ],
      "source": [
        "svc1 = LinearSVC()\n",
        "param_grid = {'C':[0.0001,0.001,0.01,0.1,1,10],\n",
        "             'loss':['hinge','squared_hinge'],\n",
        "             'fit_intercept':[True,False]}\n",
        "grid_search = GridSearchCV(svc1,param_grid,cv=5,scoring='f1_macro',n_jobs=-1,verbose=0,return_train_score=True)\n",
        "grid_search.fit(X_train_tf,y_train)"
      ]
    },
    {
      "cell_type": "code",
      "execution_count": 70,
      "id": "d517b9c6",
      "metadata": {
        "id": "d517b9c6",
        "outputId": "8fc45780-f55b-441f-8c47-9e5c308771b4",
        "colab": {
          "base_uri": "https://localhost:8080/",
          "height": 75
        }
      },
      "outputs": [
        {
          "output_type": "execute_result",
          "data": {
            "text/plain": [
              "LinearSVC(C=1, loss='hinge')"
            ],
            "text/html": [
              "<style>#sk-container-id-2 {color: black;background-color: white;}#sk-container-id-2 pre{padding: 0;}#sk-container-id-2 div.sk-toggleable {background-color: white;}#sk-container-id-2 label.sk-toggleable__label {cursor: pointer;display: block;width: 100%;margin-bottom: 0;padding: 0.3em;box-sizing: border-box;text-align: center;}#sk-container-id-2 label.sk-toggleable__label-arrow:before {content: \"▸\";float: left;margin-right: 0.25em;color: #696969;}#sk-container-id-2 label.sk-toggleable__label-arrow:hover:before {color: black;}#sk-container-id-2 div.sk-estimator:hover label.sk-toggleable__label-arrow:before {color: black;}#sk-container-id-2 div.sk-toggleable__content {max-height: 0;max-width: 0;overflow: hidden;text-align: left;background-color: #f0f8ff;}#sk-container-id-2 div.sk-toggleable__content pre {margin: 0.2em;color: black;border-radius: 0.25em;background-color: #f0f8ff;}#sk-container-id-2 input.sk-toggleable__control:checked~div.sk-toggleable__content {max-height: 200px;max-width: 100%;overflow: auto;}#sk-container-id-2 input.sk-toggleable__control:checked~label.sk-toggleable__label-arrow:before {content: \"▾\";}#sk-container-id-2 div.sk-estimator input.sk-toggleable__control:checked~label.sk-toggleable__label {background-color: #d4ebff;}#sk-container-id-2 div.sk-label input.sk-toggleable__control:checked~label.sk-toggleable__label {background-color: #d4ebff;}#sk-container-id-2 input.sk-hidden--visually {border: 0;clip: rect(1px 1px 1px 1px);clip: rect(1px, 1px, 1px, 1px);height: 1px;margin: -1px;overflow: hidden;padding: 0;position: absolute;width: 1px;}#sk-container-id-2 div.sk-estimator {font-family: monospace;background-color: #f0f8ff;border: 1px dotted black;border-radius: 0.25em;box-sizing: border-box;margin-bottom: 0.5em;}#sk-container-id-2 div.sk-estimator:hover {background-color: #d4ebff;}#sk-container-id-2 div.sk-parallel-item::after {content: \"\";width: 100%;border-bottom: 1px solid gray;flex-grow: 1;}#sk-container-id-2 div.sk-label:hover label.sk-toggleable__label {background-color: #d4ebff;}#sk-container-id-2 div.sk-serial::before {content: \"\";position: absolute;border-left: 1px solid gray;box-sizing: border-box;top: 0;bottom: 0;left: 50%;z-index: 0;}#sk-container-id-2 div.sk-serial {display: flex;flex-direction: column;align-items: center;background-color: white;padding-right: 0.2em;padding-left: 0.2em;position: relative;}#sk-container-id-2 div.sk-item {position: relative;z-index: 1;}#sk-container-id-2 div.sk-parallel {display: flex;align-items: stretch;justify-content: center;background-color: white;position: relative;}#sk-container-id-2 div.sk-item::before, #sk-container-id-2 div.sk-parallel-item::before {content: \"\";position: absolute;border-left: 1px solid gray;box-sizing: border-box;top: 0;bottom: 0;left: 50%;z-index: -1;}#sk-container-id-2 div.sk-parallel-item {display: flex;flex-direction: column;z-index: 1;position: relative;background-color: white;}#sk-container-id-2 div.sk-parallel-item:first-child::after {align-self: flex-end;width: 50%;}#sk-container-id-2 div.sk-parallel-item:last-child::after {align-self: flex-start;width: 50%;}#sk-container-id-2 div.sk-parallel-item:only-child::after {width: 0;}#sk-container-id-2 div.sk-dashed-wrapped {border: 1px dashed gray;margin: 0 0.4em 0.5em 0.4em;box-sizing: border-box;padding-bottom: 0.4em;background-color: white;}#sk-container-id-2 div.sk-label label {font-family: monospace;font-weight: bold;display: inline-block;line-height: 1.2em;}#sk-container-id-2 div.sk-label-container {text-align: center;}#sk-container-id-2 div.sk-container {/* jupyter's `normalize.less` sets `[hidden] { display: none; }` but bootstrap.min.css set `[hidden] { display: none !important; }` so we also need the `!important` here to be able to override the default hidden behavior on the sphinx rendered scikit-learn.org. See: https://github.com/scikit-learn/scikit-learn/issues/21755 */display: inline-block !important;position: relative;}#sk-container-id-2 div.sk-text-repr-fallback {display: none;}</style><div id=\"sk-container-id-2\" class=\"sk-top-container\"><div class=\"sk-text-repr-fallback\"><pre>LinearSVC(C=1, loss=&#x27;hinge&#x27;)</pre><b>In a Jupyter environment, please rerun this cell to show the HTML representation or trust the notebook. <br />On GitHub, the HTML representation is unable to render, please try loading this page with nbviewer.org.</b></div><div class=\"sk-container\" hidden><div class=\"sk-item\"><div class=\"sk-estimator sk-toggleable\"><input class=\"sk-toggleable__control sk-hidden--visually\" id=\"sk-estimator-id-4\" type=\"checkbox\" checked><label for=\"sk-estimator-id-4\" class=\"sk-toggleable__label sk-toggleable__label-arrow\">LinearSVC</label><div class=\"sk-toggleable__content\"><pre>LinearSVC(C=1, loss=&#x27;hinge&#x27;)</pre></div></div></div></div></div>"
            ]
          },
          "metadata": {},
          "execution_count": 70
        }
      ],
      "source": [
        "grid_search.best_estimator_"
      ]
    },
    {
      "cell_type": "code",
      "execution_count": 71,
      "id": "a7a6aa2e",
      "metadata": {
        "id": "a7a6aa2e",
        "outputId": "9ba1e188-fc15-46b8-efb5-b324bcf3cc3b",
        "colab": {
          "base_uri": "https://localhost:8080/"
        }
      },
      "outputs": [
        {
          "output_type": "execute_result",
          "data": {
            "text/plain": [
              "0.8244012024546198"
            ]
          },
          "metadata": {},
          "execution_count": 71
        }
      ],
      "source": [
        "grid_search.best_score_"
      ]
    },
    {
      "cell_type": "markdown",
      "id": "cf493091",
      "metadata": {
        "id": "cf493091"
      },
      "source": [
        "# Model Evaluation"
      ]
    },
    {
      "cell_type": "code",
      "execution_count": 72,
      "id": "245152c6",
      "metadata": {
        "id": "245152c6"
      },
      "outputs": [],
      "source": [
        "lin_svc.fit(X_train_tf,y_train)\n",
        "y_pred = lin_svc.predict(X_test_tf)"
      ]
    },
    {
      "cell_type": "code",
      "execution_count": 73,
      "id": "b8844e8e",
      "metadata": {
        "id": "b8844e8e"
      },
      "outputs": [],
      "source": [
        "def print_confusion_matrix(confusion_matrix, class_names, figsize = (10,7), fontsize=14):\n",
        "    df_cm = pd.DataFrame(confusion_matrix, index=class_names, columns=class_names)\n",
        "    fig = plt.figure(figsize=figsize)\n",
        "    try:\n",
        "        heatmap = sns.heatmap(df_cm, annot=True, fmt=\"d\")\n",
        "    except ValueError:\n",
        "        raise ValueError(\"Confusion matrix values must be integers.\")\n",
        "    heatmap.yaxis.set_ticklabels(heatmap.yaxis.get_ticklabels(), rotation=0, ha='right', fontsize=fontsize)\n",
        "    heatmap.xaxis.set_ticklabels(heatmap.xaxis.get_ticklabels(), rotation=45, ha='right', fontsize=fontsize)\n",
        "    plt.ylabel('Truth')\n",
        "    plt.xlabel('Prediction')"
      ]
    },
    {
      "cell_type": "code",
      "execution_count": 74,
      "id": "230489f1",
      "metadata": {
        "id": "230489f1",
        "outputId": "b3b56eb0-a70b-4f7e-9f2b-2f186ed08cf3",
        "colab": {
          "base_uri": "https://localhost:8080/",
          "height": 756
        }
      },
      "outputs": [
        {
          "output_type": "display_data",
          "data": {
            "text/plain": [
              "<Figure size 1000x700 with 2 Axes>"
            ],
            "image/png": "[encoded data removed]"
          },
          "metadata": {}
        }
      ],
      "source": [
        "cm = confusion_matrix(y_test,y_pred)\n",
        "print_confusion_matrix(cm,sentiments)"
      ]
    },
    {
      "cell_type": "markdown",
      "source": [
        "Number of correct and incorrect predictions made by the model on a test dataset"
      ],
      "metadata": {
        "id": "U1aVvjHMHmp3"
      },
      "id": "U1aVvjHMHmp3"
    },
    {
      "cell_type": "code",
      "execution_count": 75,
      "id": "73b5f468",
      "metadata": {
        "id": "73b5f468",
        "outputId": "2c9429c7-e26e-4819-b104-1f574dfed822",
        "colab": {
          "base_uri": "https://localhost:8080/"
        }
      },
      "outputs": [
        {
          "output_type": "stream",
          "name": "stdout",
          "text": [
            "Classification Report:\n",
            "                      precision    recall  f1-score   support\n",
            "\n",
            "           religion       0.94      0.95      0.94      2386\n",
            "                age       0.93      0.97      0.95      2365\n",
            "          ethnicity       0.97      0.99      0.98      2331\n",
            "             gender       0.89      0.85      0.87      2286\n",
            "other_cyberbullying       0.58      0.59      0.59      1734\n",
            "  not_cyberbullying       0.63      0.60      0.61      2293\n",
            "\n",
            "           accuracy                           0.84     13395\n",
            "          macro avg       0.82      0.83      0.82     13395\n",
            "       weighted avg       0.84      0.84      0.84     13395\n",
            "\n"
          ]
        }
      ],
      "source": [
        "print('Classification Report:\\n',classification_report(y_test, y_pred, target_names=sentiments))"
      ]
    },
    {
      "cell_type": "code",
      "execution_count": 76,
      "id": "287943cc",
      "metadata": {
        "id": "287943cc"
      },
      "outputs": [],
      "source": [
        "pickle.dump(tf_idf, open('vectorizer.pkl', 'wb'))\n",
        "pickle.dump(lin_svc, open('model.pkl', 'wb'))"
      ]
    },
    {
      "cell_type": "code",
      "execution_count": 76,
      "id": "816ee699",
      "metadata": {
        "id": "816ee699"
      },
      "outputs": [],
      "source": []
    }
  ],
  "metadata": {
    "kernelspec": {
      "display_name": "Python 3",
      "language": "python",
      "name": "python3"
    },
    "language_info": {
      "codemirror_mode": {
        "name": "ipython",
        "version": 3
      },
      "file_extension": ".py",
      "mimetype": "text/x-python",
      "name": "python",
      "nbconvert_exporter": "python",
      "pygments_lexer": "ipython3",
      "version": "3.9.5"
    },
    "vscode": {
      "interpreter": {
        "hash": "11938c6bc6919ae2720b4d5011047913343b08a43b18698fd82dedb0d4417594"
      }
    },
    "colab": {
      "provenance": [],
      "include_colab_link": true
    }
  },
  "nbformat": 4,
  "nbformat_minor": 5
}